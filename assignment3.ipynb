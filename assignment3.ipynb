{
  "nbformat": 4,
  "nbformat_minor": 0,
  "metadata": {
    "colab": {
      "provenance": [],
      "mount_file_id": "1-RkJwS3PAaXy8jYT_7s78b62gF8W1zDc",
      "authorship_tag": "ABX9TyPVQe3RCtjkhrbFnaWhVZQR",
      "include_colab_link": true
    },
    "kernelspec": {
      "name": "python3",
      "display_name": "Python 3"
    },
    "language_info": {
      "name": "python"
    }
  },
  "cells": [
    {
      "cell_type": "markdown",
      "metadata": {
        "id": "view-in-github",
        "colab_type": "text"
      },
      "source": [
        "<a href=\"https://colab.research.google.com/github/Haodong12/AIPI-590/blob/main/assignment3.ipynb\" target=\"_parent\"><img src=\"https://colab.research.google.com/assets/colab-badge.svg\" alt=\"Open In Colab\"/></a>"
      ]
    },
    {
      "cell_type": "markdown",
      "source": [
        "Assignment #3 - Interpretable ML\n",
        "\n",
        "Haodong He\n",
        "\n",
        "This assignment used Linear Regression, Logistic Regression and GAM approach to understand the factors contributed to customer churn and type of customer liket to churn.\n",
        "\n",
        "https://colab.research.google.com/drive/1-RkJwS3PAaXy8jYT_7s78b62gF8W1zDc#scrollTo=QIEdAgHOoJV2"
      ],
      "metadata": {
        "id": "tzYnnnVyvl3X"
      }
    },
    {
      "cell_type": "code",
      "execution_count": 1,
      "metadata": {
        "id": "QIEdAgHOoJV2"
      },
      "outputs": [],
      "source": [
        "!pip install pandas --quiet\n"
      ]
    },
    {
      "cell_type": "code",
      "source": [
        "!pip install pygam --quiet\n"
      ],
      "metadata": {
        "colab": {
          "base_uri": "https://localhost:8080/"
        },
        "id": "071DGOg-ZKZf",
        "outputId": "a36622b2-7faf-47fc-c81a-c92819fff3f9"
      },
      "execution_count": 35,
      "outputs": [
        {
          "output_type": "stream",
          "name": "stdout",
          "text": [
            "\u001b[?25l     \u001b[90m━━━━━━━━━━━━━━━━━━━━━━━━━━━━━━━━━━━━━━━━\u001b[0m \u001b[32m0.0/60.4 kB\u001b[0m \u001b[31m?\u001b[0m eta \u001b[36m-:--:--\u001b[0m\r\u001b[2K     \u001b[90m━━━━━━━━━━━━━━━━━━━━━━━━━━━━━━━━━━━━━━━━\u001b[0m \u001b[32m60.4/60.4 kB\u001b[0m \u001b[31m2.1 MB/s\u001b[0m eta \u001b[36m0:00:00\u001b[0m\n",
            "\u001b[2K   \u001b[90m━━━━━━━━━━━━━━━━━━━━━━━━━━━━━━━━━━━━━━━━\u001b[0m \u001b[32m522.0/522.0 kB\u001b[0m \u001b[31m19.1 MB/s\u001b[0m eta \u001b[36m0:00:00\u001b[0m\n",
            "\u001b[2K   \u001b[90m━━━━━━━━━━━━━━━━━━━━━━━━━━━━━━━━━━━━━━━━\u001b[0m \u001b[32m36.4/36.4 MB\u001b[0m \u001b[31m17.9 MB/s\u001b[0m eta \u001b[36m0:00:00\u001b[0m\n",
            "\u001b[?25h"
          ]
        }
      ]
    },
    {
      "cell_type": "code",
      "source": [
        "import pandas as pd\n",
        "from sklearn.model_selection import train_test_split\n",
        "from sklearn.preprocessing import StandardScaler\n",
        "from sklearn.linear_model import LinearRegression, Ridge, Lasso\n",
        "from sklearn.metrics import mean_squared_error, r2_score\n",
        "from statsmodels.stats.outliers_influence import variance_inflation_factor\n",
        "from statsmodels.stats.stattools import durbin_watson\n",
        "from statsmodels.tools import add_constant\n",
        "import statsmodels.api as sm\n",
        "from sklearn.metrics import classification_report, confusion_matrix\n",
        "import numpy as np\n",
        "import matplotlib.pyplot as plt\n",
        "import seaborn as sns\n",
        "from pygam import LogisticGAM, s, f"
      ],
      "metadata": {
        "id": "t-sZ2YpLxYnL"
      },
      "execution_count": 36,
      "outputs": []
    },
    {
      "cell_type": "code",
      "source": [
        "from google.colab import drive\n",
        "drive.mount('/content/drive')"
      ],
      "metadata": {
        "colab": {
          "base_uri": "https://localhost:8080/"
        },
        "id": "UZg9Fk9KrvQD",
        "outputId": "2f4bf6f2-a46f-4afd-a53b-eba19d8ed1ed"
      },
      "execution_count": 51,
      "outputs": [
        {
          "output_type": "stream",
          "name": "stdout",
          "text": [
            "Drive already mounted at /content/drive; to attempt to forcibly remount, call drive.mount(\"/content/drive\", force_remount=True).\n"
          ]
        }
      ]
    },
    {
      "cell_type": "code",
      "source": [
        "# Path to the CSV file in Google Drive\n",
        "csv_path = '/content/drive/MyDrive/assignment #03/Telco-Customer-Churn.csv'\n",
        "\n",
        "# Load the CSV file into a DataFrame\n",
        "df = pd.read_csv(csv_path)\n",
        "\n",
        "# Display the first few rows of the DataFrame\n",
        "print(df.head())\n"
      ],
      "metadata": {
        "colab": {
          "base_uri": "https://localhost:8080/"
        },
        "id": "DfOQdVgWxH7d",
        "outputId": "507f2294-b7d2-4810-a676-44735a942021"
      },
      "execution_count": 5,
      "outputs": [
        {
          "output_type": "stream",
          "name": "stdout",
          "text": [
            "   customerID  gender  SeniorCitizen Partner Dependents  tenure PhoneService  \\\n",
            "0  7590-VHVEG  Female              0     Yes         No       1           No   \n",
            "1  5575-GNVDE    Male              0      No         No      34          Yes   \n",
            "2  3668-QPYBK    Male              0      No         No       2          Yes   \n",
            "3  7795-CFOCW    Male              0      No         No      45           No   \n",
            "4  9237-HQITU  Female              0      No         No       2          Yes   \n",
            "\n",
            "      MultipleLines InternetService OnlineSecurity  ... DeviceProtection  \\\n",
            "0  No phone service             DSL             No  ...               No   \n",
            "1                No             DSL            Yes  ...              Yes   \n",
            "2                No             DSL            Yes  ...               No   \n",
            "3  No phone service             DSL            Yes  ...              Yes   \n",
            "4                No     Fiber optic             No  ...               No   \n",
            "\n",
            "  TechSupport StreamingTV StreamingMovies        Contract PaperlessBilling  \\\n",
            "0          No          No              No  Month-to-month              Yes   \n",
            "1          No          No              No        One year               No   \n",
            "2          No          No              No  Month-to-month              Yes   \n",
            "3         Yes          No              No        One year               No   \n",
            "4          No          No              No  Month-to-month              Yes   \n",
            "\n",
            "               PaymentMethod MonthlyCharges  TotalCharges Churn  \n",
            "0           Electronic check          29.85         29.85    No  \n",
            "1               Mailed check          56.95        1889.5    No  \n",
            "2               Mailed check          53.85        108.15   Yes  \n",
            "3  Bank transfer (automatic)          42.30       1840.75    No  \n",
            "4           Electronic check          70.70        151.65   Yes  \n",
            "\n",
            "[5 rows x 21 columns]\n"
          ]
        }
      ]
    },
    {
      "cell_type": "code",
      "source": [
        "df"
      ],
      "metadata": {
        "colab": {
          "base_uri": "https://localhost:8080/",
          "height": 599
        },
        "id": "efdW1cBzF0rV",
        "outputId": "f0da39de-6ee3-4b55-9628-692e92f5b6ec"
      },
      "execution_count": 6,
      "outputs": [
        {
          "output_type": "execute_result",
          "data": {
            "text/plain": [
              "      customerID  gender  SeniorCitizen Partner Dependents  tenure  \\\n",
              "0     7590-VHVEG  Female              0     Yes         No       1   \n",
              "1     5575-GNVDE    Male              0      No         No      34   \n",
              "2     3668-QPYBK    Male              0      No         No       2   \n",
              "3     7795-CFOCW    Male              0      No         No      45   \n",
              "4     9237-HQITU  Female              0      No         No       2   \n",
              "...          ...     ...            ...     ...        ...     ...   \n",
              "7038  6840-RESVB    Male              0     Yes        Yes      24   \n",
              "7039  2234-XADUH  Female              0     Yes        Yes      72   \n",
              "7040  4801-JZAZL  Female              0     Yes        Yes      11   \n",
              "7041  8361-LTMKD    Male              1     Yes         No       4   \n",
              "7042  3186-AJIEK    Male              0      No         No      66   \n",
              "\n",
              "     PhoneService     MultipleLines InternetService OnlineSecurity  ...  \\\n",
              "0              No  No phone service             DSL             No  ...   \n",
              "1             Yes                No             DSL            Yes  ...   \n",
              "2             Yes                No             DSL            Yes  ...   \n",
              "3              No  No phone service             DSL            Yes  ...   \n",
              "4             Yes                No     Fiber optic             No  ...   \n",
              "...           ...               ...             ...            ...  ...   \n",
              "7038          Yes               Yes             DSL            Yes  ...   \n",
              "7039          Yes               Yes     Fiber optic             No  ...   \n",
              "7040           No  No phone service             DSL            Yes  ...   \n",
              "7041          Yes               Yes     Fiber optic             No  ...   \n",
              "7042          Yes                No     Fiber optic            Yes  ...   \n",
              "\n",
              "     DeviceProtection TechSupport StreamingTV StreamingMovies        Contract  \\\n",
              "0                  No          No          No              No  Month-to-month   \n",
              "1                 Yes          No          No              No        One year   \n",
              "2                  No          No          No              No  Month-to-month   \n",
              "3                 Yes         Yes          No              No        One year   \n",
              "4                  No          No          No              No  Month-to-month   \n",
              "...               ...         ...         ...             ...             ...   \n",
              "7038              Yes         Yes         Yes             Yes        One year   \n",
              "7039              Yes          No         Yes             Yes        One year   \n",
              "7040               No          No          No              No  Month-to-month   \n",
              "7041               No          No          No              No  Month-to-month   \n",
              "7042              Yes         Yes         Yes             Yes        Two year   \n",
              "\n",
              "     PaperlessBilling              PaymentMethod MonthlyCharges  TotalCharges  \\\n",
              "0                 Yes           Electronic check          29.85         29.85   \n",
              "1                  No               Mailed check          56.95        1889.5   \n",
              "2                 Yes               Mailed check          53.85        108.15   \n",
              "3                  No  Bank transfer (automatic)          42.30       1840.75   \n",
              "4                 Yes           Electronic check          70.70        151.65   \n",
              "...               ...                        ...            ...           ...   \n",
              "7038              Yes               Mailed check          84.80        1990.5   \n",
              "7039              Yes    Credit card (automatic)         103.20        7362.9   \n",
              "7040              Yes           Electronic check          29.60        346.45   \n",
              "7041              Yes               Mailed check          74.40         306.6   \n",
              "7042              Yes  Bank transfer (automatic)         105.65        6844.5   \n",
              "\n",
              "     Churn  \n",
              "0       No  \n",
              "1       No  \n",
              "2      Yes  \n",
              "3       No  \n",
              "4      Yes  \n",
              "...    ...  \n",
              "7038    No  \n",
              "7039    No  \n",
              "7040    No  \n",
              "7041   Yes  \n",
              "7042    No  \n",
              "\n",
              "[7043 rows x 21 columns]"
            ],
            "text/html": [
              "\n",
              "  <div id=\"df-55b39b25-f226-41ec-8e1d-e566bf42fea5\" class=\"colab-df-container\">\n",
              "    <div>\n",
              "<style scoped>\n",
              "    .dataframe tbody tr th:only-of-type {\n",
              "        vertical-align: middle;\n",
              "    }\n",
              "\n",
              "    .dataframe tbody tr th {\n",
              "        vertical-align: top;\n",
              "    }\n",
              "\n",
              "    .dataframe thead th {\n",
              "        text-align: right;\n",
              "    }\n",
              "</style>\n",
              "<table border=\"1\" class=\"dataframe\">\n",
              "  <thead>\n",
              "    <tr style=\"text-align: right;\">\n",
              "      <th></th>\n",
              "      <th>customerID</th>\n",
              "      <th>gender</th>\n",
              "      <th>SeniorCitizen</th>\n",
              "      <th>Partner</th>\n",
              "      <th>Dependents</th>\n",
              "      <th>tenure</th>\n",
              "      <th>PhoneService</th>\n",
              "      <th>MultipleLines</th>\n",
              "      <th>InternetService</th>\n",
              "      <th>OnlineSecurity</th>\n",
              "      <th>...</th>\n",
              "      <th>DeviceProtection</th>\n",
              "      <th>TechSupport</th>\n",
              "      <th>StreamingTV</th>\n",
              "      <th>StreamingMovies</th>\n",
              "      <th>Contract</th>\n",
              "      <th>PaperlessBilling</th>\n",
              "      <th>PaymentMethod</th>\n",
              "      <th>MonthlyCharges</th>\n",
              "      <th>TotalCharges</th>\n",
              "      <th>Churn</th>\n",
              "    </tr>\n",
              "  </thead>\n",
              "  <tbody>\n",
              "    <tr>\n",
              "      <th>0</th>\n",
              "      <td>7590-VHVEG</td>\n",
              "      <td>Female</td>\n",
              "      <td>0</td>\n",
              "      <td>Yes</td>\n",
              "      <td>No</td>\n",
              "      <td>1</td>\n",
              "      <td>No</td>\n",
              "      <td>No phone service</td>\n",
              "      <td>DSL</td>\n",
              "      <td>No</td>\n",
              "      <td>...</td>\n",
              "      <td>No</td>\n",
              "      <td>No</td>\n",
              "      <td>No</td>\n",
              "      <td>No</td>\n",
              "      <td>Month-to-month</td>\n",
              "      <td>Yes</td>\n",
              "      <td>Electronic check</td>\n",
              "      <td>29.85</td>\n",
              "      <td>29.85</td>\n",
              "      <td>No</td>\n",
              "    </tr>\n",
              "    <tr>\n",
              "      <th>1</th>\n",
              "      <td>5575-GNVDE</td>\n",
              "      <td>Male</td>\n",
              "      <td>0</td>\n",
              "      <td>No</td>\n",
              "      <td>No</td>\n",
              "      <td>34</td>\n",
              "      <td>Yes</td>\n",
              "      <td>No</td>\n",
              "      <td>DSL</td>\n",
              "      <td>Yes</td>\n",
              "      <td>...</td>\n",
              "      <td>Yes</td>\n",
              "      <td>No</td>\n",
              "      <td>No</td>\n",
              "      <td>No</td>\n",
              "      <td>One year</td>\n",
              "      <td>No</td>\n",
              "      <td>Mailed check</td>\n",
              "      <td>56.95</td>\n",
              "      <td>1889.5</td>\n",
              "      <td>No</td>\n",
              "    </tr>\n",
              "    <tr>\n",
              "      <th>2</th>\n",
              "      <td>3668-QPYBK</td>\n",
              "      <td>Male</td>\n",
              "      <td>0</td>\n",
              "      <td>No</td>\n",
              "      <td>No</td>\n",
              "      <td>2</td>\n",
              "      <td>Yes</td>\n",
              "      <td>No</td>\n",
              "      <td>DSL</td>\n",
              "      <td>Yes</td>\n",
              "      <td>...</td>\n",
              "      <td>No</td>\n",
              "      <td>No</td>\n",
              "      <td>No</td>\n",
              "      <td>No</td>\n",
              "      <td>Month-to-month</td>\n",
              "      <td>Yes</td>\n",
              "      <td>Mailed check</td>\n",
              "      <td>53.85</td>\n",
              "      <td>108.15</td>\n",
              "      <td>Yes</td>\n",
              "    </tr>\n",
              "    <tr>\n",
              "      <th>3</th>\n",
              "      <td>7795-CFOCW</td>\n",
              "      <td>Male</td>\n",
              "      <td>0</td>\n",
              "      <td>No</td>\n",
              "      <td>No</td>\n",
              "      <td>45</td>\n",
              "      <td>No</td>\n",
              "      <td>No phone service</td>\n",
              "      <td>DSL</td>\n",
              "      <td>Yes</td>\n",
              "      <td>...</td>\n",
              "      <td>Yes</td>\n",
              "      <td>Yes</td>\n",
              "      <td>No</td>\n",
              "      <td>No</td>\n",
              "      <td>One year</td>\n",
              "      <td>No</td>\n",
              "      <td>Bank transfer (automatic)</td>\n",
              "      <td>42.30</td>\n",
              "      <td>1840.75</td>\n",
              "      <td>No</td>\n",
              "    </tr>\n",
              "    <tr>\n",
              "      <th>4</th>\n",
              "      <td>9237-HQITU</td>\n",
              "      <td>Female</td>\n",
              "      <td>0</td>\n",
              "      <td>No</td>\n",
              "      <td>No</td>\n",
              "      <td>2</td>\n",
              "      <td>Yes</td>\n",
              "      <td>No</td>\n",
              "      <td>Fiber optic</td>\n",
              "      <td>No</td>\n",
              "      <td>...</td>\n",
              "      <td>No</td>\n",
              "      <td>No</td>\n",
              "      <td>No</td>\n",
              "      <td>No</td>\n",
              "      <td>Month-to-month</td>\n",
              "      <td>Yes</td>\n",
              "      <td>Electronic check</td>\n",
              "      <td>70.70</td>\n",
              "      <td>151.65</td>\n",
              "      <td>Yes</td>\n",
              "    </tr>\n",
              "    <tr>\n",
              "      <th>...</th>\n",
              "      <td>...</td>\n",
              "      <td>...</td>\n",
              "      <td>...</td>\n",
              "      <td>...</td>\n",
              "      <td>...</td>\n",
              "      <td>...</td>\n",
              "      <td>...</td>\n",
              "      <td>...</td>\n",
              "      <td>...</td>\n",
              "      <td>...</td>\n",
              "      <td>...</td>\n",
              "      <td>...</td>\n",
              "      <td>...</td>\n",
              "      <td>...</td>\n",
              "      <td>...</td>\n",
              "      <td>...</td>\n",
              "      <td>...</td>\n",
              "      <td>...</td>\n",
              "      <td>...</td>\n",
              "      <td>...</td>\n",
              "      <td>...</td>\n",
              "    </tr>\n",
              "    <tr>\n",
              "      <th>7038</th>\n",
              "      <td>6840-RESVB</td>\n",
              "      <td>Male</td>\n",
              "      <td>0</td>\n",
              "      <td>Yes</td>\n",
              "      <td>Yes</td>\n",
              "      <td>24</td>\n",
              "      <td>Yes</td>\n",
              "      <td>Yes</td>\n",
              "      <td>DSL</td>\n",
              "      <td>Yes</td>\n",
              "      <td>...</td>\n",
              "      <td>Yes</td>\n",
              "      <td>Yes</td>\n",
              "      <td>Yes</td>\n",
              "      <td>Yes</td>\n",
              "      <td>One year</td>\n",
              "      <td>Yes</td>\n",
              "      <td>Mailed check</td>\n",
              "      <td>84.80</td>\n",
              "      <td>1990.5</td>\n",
              "      <td>No</td>\n",
              "    </tr>\n",
              "    <tr>\n",
              "      <th>7039</th>\n",
              "      <td>2234-XADUH</td>\n",
              "      <td>Female</td>\n",
              "      <td>0</td>\n",
              "      <td>Yes</td>\n",
              "      <td>Yes</td>\n",
              "      <td>72</td>\n",
              "      <td>Yes</td>\n",
              "      <td>Yes</td>\n",
              "      <td>Fiber optic</td>\n",
              "      <td>No</td>\n",
              "      <td>...</td>\n",
              "      <td>Yes</td>\n",
              "      <td>No</td>\n",
              "      <td>Yes</td>\n",
              "      <td>Yes</td>\n",
              "      <td>One year</td>\n",
              "      <td>Yes</td>\n",
              "      <td>Credit card (automatic)</td>\n",
              "      <td>103.20</td>\n",
              "      <td>7362.9</td>\n",
              "      <td>No</td>\n",
              "    </tr>\n",
              "    <tr>\n",
              "      <th>7040</th>\n",
              "      <td>4801-JZAZL</td>\n",
              "      <td>Female</td>\n",
              "      <td>0</td>\n",
              "      <td>Yes</td>\n",
              "      <td>Yes</td>\n",
              "      <td>11</td>\n",
              "      <td>No</td>\n",
              "      <td>No phone service</td>\n",
              "      <td>DSL</td>\n",
              "      <td>Yes</td>\n",
              "      <td>...</td>\n",
              "      <td>No</td>\n",
              "      <td>No</td>\n",
              "      <td>No</td>\n",
              "      <td>No</td>\n",
              "      <td>Month-to-month</td>\n",
              "      <td>Yes</td>\n",
              "      <td>Electronic check</td>\n",
              "      <td>29.60</td>\n",
              "      <td>346.45</td>\n",
              "      <td>No</td>\n",
              "    </tr>\n",
              "    <tr>\n",
              "      <th>7041</th>\n",
              "      <td>8361-LTMKD</td>\n",
              "      <td>Male</td>\n",
              "      <td>1</td>\n",
              "      <td>Yes</td>\n",
              "      <td>No</td>\n",
              "      <td>4</td>\n",
              "      <td>Yes</td>\n",
              "      <td>Yes</td>\n",
              "      <td>Fiber optic</td>\n",
              "      <td>No</td>\n",
              "      <td>...</td>\n",
              "      <td>No</td>\n",
              "      <td>No</td>\n",
              "      <td>No</td>\n",
              "      <td>No</td>\n",
              "      <td>Month-to-month</td>\n",
              "      <td>Yes</td>\n",
              "      <td>Mailed check</td>\n",
              "      <td>74.40</td>\n",
              "      <td>306.6</td>\n",
              "      <td>Yes</td>\n",
              "    </tr>\n",
              "    <tr>\n",
              "      <th>7042</th>\n",
              "      <td>3186-AJIEK</td>\n",
              "      <td>Male</td>\n",
              "      <td>0</td>\n",
              "      <td>No</td>\n",
              "      <td>No</td>\n",
              "      <td>66</td>\n",
              "      <td>Yes</td>\n",
              "      <td>No</td>\n",
              "      <td>Fiber optic</td>\n",
              "      <td>Yes</td>\n",
              "      <td>...</td>\n",
              "      <td>Yes</td>\n",
              "      <td>Yes</td>\n",
              "      <td>Yes</td>\n",
              "      <td>Yes</td>\n",
              "      <td>Two year</td>\n",
              "      <td>Yes</td>\n",
              "      <td>Bank transfer (automatic)</td>\n",
              "      <td>105.65</td>\n",
              "      <td>6844.5</td>\n",
              "      <td>No</td>\n",
              "    </tr>\n",
              "  </tbody>\n",
              "</table>\n",
              "<p>7043 rows × 21 columns</p>\n",
              "</div>\n",
              "    <div class=\"colab-df-buttons\">\n",
              "\n",
              "  <div class=\"colab-df-container\">\n",
              "    <button class=\"colab-df-convert\" onclick=\"convertToInteractive('df-55b39b25-f226-41ec-8e1d-e566bf42fea5')\"\n",
              "            title=\"Convert this dataframe to an interactive table.\"\n",
              "            style=\"display:none;\">\n",
              "\n",
              "  <svg xmlns=\"http://www.w3.org/2000/svg\" height=\"24px\" viewBox=\"0 -960 960 960\">\n",
              "    <path d=\"M120-120v-720h720v720H120Zm60-500h600v-160H180v160Zm220 220h160v-160H400v160Zm0 220h160v-160H400v160ZM180-400h160v-160H180v160Zm440 0h160v-160H620v160ZM180-180h160v-160H180v160Zm440 0h160v-160H620v160Z\"/>\n",
              "  </svg>\n",
              "    </button>\n",
              "\n",
              "  <style>\n",
              "    .colab-df-container {\n",
              "      display:flex;\n",
              "      gap: 12px;\n",
              "    }\n",
              "\n",
              "    .colab-df-convert {\n",
              "      background-color: #E8F0FE;\n",
              "      border: none;\n",
              "      border-radius: 50%;\n",
              "      cursor: pointer;\n",
              "      display: none;\n",
              "      fill: #1967D2;\n",
              "      height: 32px;\n",
              "      padding: 0 0 0 0;\n",
              "      width: 32px;\n",
              "    }\n",
              "\n",
              "    .colab-df-convert:hover {\n",
              "      background-color: #E2EBFA;\n",
              "      box-shadow: 0px 1px 2px rgba(60, 64, 67, 0.3), 0px 1px 3px 1px rgba(60, 64, 67, 0.15);\n",
              "      fill: #174EA6;\n",
              "    }\n",
              "\n",
              "    .colab-df-buttons div {\n",
              "      margin-bottom: 4px;\n",
              "    }\n",
              "\n",
              "    [theme=dark] .colab-df-convert {\n",
              "      background-color: #3B4455;\n",
              "      fill: #D2E3FC;\n",
              "    }\n",
              "\n",
              "    [theme=dark] .colab-df-convert:hover {\n",
              "      background-color: #434B5C;\n",
              "      box-shadow: 0px 1px 3px 1px rgba(0, 0, 0, 0.15);\n",
              "      filter: drop-shadow(0px 1px 2px rgba(0, 0, 0, 0.3));\n",
              "      fill: #FFFFFF;\n",
              "    }\n",
              "  </style>\n",
              "\n",
              "    <script>\n",
              "      const buttonEl =\n",
              "        document.querySelector('#df-55b39b25-f226-41ec-8e1d-e566bf42fea5 button.colab-df-convert');\n",
              "      buttonEl.style.display =\n",
              "        google.colab.kernel.accessAllowed ? 'block' : 'none';\n",
              "\n",
              "      async function convertToInteractive(key) {\n",
              "        const element = document.querySelector('#df-55b39b25-f226-41ec-8e1d-e566bf42fea5');\n",
              "        const dataTable =\n",
              "          await google.colab.kernel.invokeFunction('convertToInteractive',\n",
              "                                                    [key], {});\n",
              "        if (!dataTable) return;\n",
              "\n",
              "        const docLinkHtml = 'Like what you see? Visit the ' +\n",
              "          '<a target=\"_blank\" href=https://colab.research.google.com/notebooks/data_table.ipynb>data table notebook</a>'\n",
              "          + ' to learn more about interactive tables.';\n",
              "        element.innerHTML = '';\n",
              "        dataTable['output_type'] = 'display_data';\n",
              "        await google.colab.output.renderOutput(dataTable, element);\n",
              "        const docLink = document.createElement('div');\n",
              "        docLink.innerHTML = docLinkHtml;\n",
              "        element.appendChild(docLink);\n",
              "      }\n",
              "    </script>\n",
              "  </div>\n",
              "\n",
              "\n",
              "<div id=\"df-f3b3e22a-6782-4409-b6fd-7ad6cd3723c0\">\n",
              "  <button class=\"colab-df-quickchart\" onclick=\"quickchart('df-f3b3e22a-6782-4409-b6fd-7ad6cd3723c0')\"\n",
              "            title=\"Suggest charts\"\n",
              "            style=\"display:none;\">\n",
              "\n",
              "<svg xmlns=\"http://www.w3.org/2000/svg\" height=\"24px\"viewBox=\"0 0 24 24\"\n",
              "     width=\"24px\">\n",
              "    <g>\n",
              "        <path d=\"M19 3H5c-1.1 0-2 .9-2 2v14c0 1.1.9 2 2 2h14c1.1 0 2-.9 2-2V5c0-1.1-.9-2-2-2zM9 17H7v-7h2v7zm4 0h-2V7h2v10zm4 0h-2v-4h2v4z\"/>\n",
              "    </g>\n",
              "</svg>\n",
              "  </button>\n",
              "\n",
              "<style>\n",
              "  .colab-df-quickchart {\n",
              "      --bg-color: #E8F0FE;\n",
              "      --fill-color: #1967D2;\n",
              "      --hover-bg-color: #E2EBFA;\n",
              "      --hover-fill-color: #174EA6;\n",
              "      --disabled-fill-color: #AAA;\n",
              "      --disabled-bg-color: #DDD;\n",
              "  }\n",
              "\n",
              "  [theme=dark] .colab-df-quickchart {\n",
              "      --bg-color: #3B4455;\n",
              "      --fill-color: #D2E3FC;\n",
              "      --hover-bg-color: #434B5C;\n",
              "      --hover-fill-color: #FFFFFF;\n",
              "      --disabled-bg-color: #3B4455;\n",
              "      --disabled-fill-color: #666;\n",
              "  }\n",
              "\n",
              "  .colab-df-quickchart {\n",
              "    background-color: var(--bg-color);\n",
              "    border: none;\n",
              "    border-radius: 50%;\n",
              "    cursor: pointer;\n",
              "    display: none;\n",
              "    fill: var(--fill-color);\n",
              "    height: 32px;\n",
              "    padding: 0;\n",
              "    width: 32px;\n",
              "  }\n",
              "\n",
              "  .colab-df-quickchart:hover {\n",
              "    background-color: var(--hover-bg-color);\n",
              "    box-shadow: 0 1px 2px rgba(60, 64, 67, 0.3), 0 1px 3px 1px rgba(60, 64, 67, 0.15);\n",
              "    fill: var(--button-hover-fill-color);\n",
              "  }\n",
              "\n",
              "  .colab-df-quickchart-complete:disabled,\n",
              "  .colab-df-quickchart-complete:disabled:hover {\n",
              "    background-color: var(--disabled-bg-color);\n",
              "    fill: var(--disabled-fill-color);\n",
              "    box-shadow: none;\n",
              "  }\n",
              "\n",
              "  .colab-df-spinner {\n",
              "    border: 2px solid var(--fill-color);\n",
              "    border-color: transparent;\n",
              "    border-bottom-color: var(--fill-color);\n",
              "    animation:\n",
              "      spin 1s steps(1) infinite;\n",
              "  }\n",
              "\n",
              "  @keyframes spin {\n",
              "    0% {\n",
              "      border-color: transparent;\n",
              "      border-bottom-color: var(--fill-color);\n",
              "      border-left-color: var(--fill-color);\n",
              "    }\n",
              "    20% {\n",
              "      border-color: transparent;\n",
              "      border-left-color: var(--fill-color);\n",
              "      border-top-color: var(--fill-color);\n",
              "    }\n",
              "    30% {\n",
              "      border-color: transparent;\n",
              "      border-left-color: var(--fill-color);\n",
              "      border-top-color: var(--fill-color);\n",
              "      border-right-color: var(--fill-color);\n",
              "    }\n",
              "    40% {\n",
              "      border-color: transparent;\n",
              "      border-right-color: var(--fill-color);\n",
              "      border-top-color: var(--fill-color);\n",
              "    }\n",
              "    60% {\n",
              "      border-color: transparent;\n",
              "      border-right-color: var(--fill-color);\n",
              "    }\n",
              "    80% {\n",
              "      border-color: transparent;\n",
              "      border-right-color: var(--fill-color);\n",
              "      border-bottom-color: var(--fill-color);\n",
              "    }\n",
              "    90% {\n",
              "      border-color: transparent;\n",
              "      border-bottom-color: var(--fill-color);\n",
              "    }\n",
              "  }\n",
              "</style>\n",
              "\n",
              "  <script>\n",
              "    async function quickchart(key) {\n",
              "      const quickchartButtonEl =\n",
              "        document.querySelector('#' + key + ' button');\n",
              "      quickchartButtonEl.disabled = true;  // To prevent multiple clicks.\n",
              "      quickchartButtonEl.classList.add('colab-df-spinner');\n",
              "      try {\n",
              "        const charts = await google.colab.kernel.invokeFunction(\n",
              "            'suggestCharts', [key], {});\n",
              "      } catch (error) {\n",
              "        console.error('Error during call to suggestCharts:', error);\n",
              "      }\n",
              "      quickchartButtonEl.classList.remove('colab-df-spinner');\n",
              "      quickchartButtonEl.classList.add('colab-df-quickchart-complete');\n",
              "    }\n",
              "    (() => {\n",
              "      let quickchartButtonEl =\n",
              "        document.querySelector('#df-f3b3e22a-6782-4409-b6fd-7ad6cd3723c0 button');\n",
              "      quickchartButtonEl.style.display =\n",
              "        google.colab.kernel.accessAllowed ? 'block' : 'none';\n",
              "    })();\n",
              "  </script>\n",
              "</div>\n",
              "\n",
              "  <div id=\"id_ddcaee18-a09d-4e32-b8c0-cda38ff22c60\">\n",
              "    <style>\n",
              "      .colab-df-generate {\n",
              "        background-color: #E8F0FE;\n",
              "        border: none;\n",
              "        border-radius: 50%;\n",
              "        cursor: pointer;\n",
              "        display: none;\n",
              "        fill: #1967D2;\n",
              "        height: 32px;\n",
              "        padding: 0 0 0 0;\n",
              "        width: 32px;\n",
              "      }\n",
              "\n",
              "      .colab-df-generate:hover {\n",
              "        background-color: #E2EBFA;\n",
              "        box-shadow: 0px 1px 2px rgba(60, 64, 67, 0.3), 0px 1px 3px 1px rgba(60, 64, 67, 0.15);\n",
              "        fill: #174EA6;\n",
              "      }\n",
              "\n",
              "      [theme=dark] .colab-df-generate {\n",
              "        background-color: #3B4455;\n",
              "        fill: #D2E3FC;\n",
              "      }\n",
              "\n",
              "      [theme=dark] .colab-df-generate:hover {\n",
              "        background-color: #434B5C;\n",
              "        box-shadow: 0px 1px 3px 1px rgba(0, 0, 0, 0.15);\n",
              "        filter: drop-shadow(0px 1px 2px rgba(0, 0, 0, 0.3));\n",
              "        fill: #FFFFFF;\n",
              "      }\n",
              "    </style>\n",
              "    <button class=\"colab-df-generate\" onclick=\"generateWithVariable('df')\"\n",
              "            title=\"Generate code using this dataframe.\"\n",
              "            style=\"display:none;\">\n",
              "\n",
              "  <svg xmlns=\"http://www.w3.org/2000/svg\" height=\"24px\"viewBox=\"0 0 24 24\"\n",
              "       width=\"24px\">\n",
              "    <path d=\"M7,19H8.4L18.45,9,17,7.55,7,17.6ZM5,21V16.75L18.45,3.32a2,2,0,0,1,2.83,0l1.4,1.43a1.91,1.91,0,0,1,.58,1.4,1.91,1.91,0,0,1-.58,1.4L9.25,21ZM18.45,9,17,7.55Zm-12,3A5.31,5.31,0,0,0,4.9,8.1,5.31,5.31,0,0,0,1,6.5,5.31,5.31,0,0,0,4.9,4.9,5.31,5.31,0,0,0,6.5,1,5.31,5.31,0,0,0,8.1,4.9,5.31,5.31,0,0,0,12,6.5,5.46,5.46,0,0,0,6.5,12Z\"/>\n",
              "  </svg>\n",
              "    </button>\n",
              "    <script>\n",
              "      (() => {\n",
              "      const buttonEl =\n",
              "        document.querySelector('#id_ddcaee18-a09d-4e32-b8c0-cda38ff22c60 button.colab-df-generate');\n",
              "      buttonEl.style.display =\n",
              "        google.colab.kernel.accessAllowed ? 'block' : 'none';\n",
              "\n",
              "      buttonEl.onclick = () => {\n",
              "        google.colab.notebook.generateWithVariable('df');\n",
              "      }\n",
              "      })();\n",
              "    </script>\n",
              "  </div>\n",
              "\n",
              "    </div>\n",
              "  </div>\n"
            ],
            "application/vnd.google.colaboratory.intrinsic+json": {
              "type": "dataframe",
              "variable_name": "df"
            }
          },
          "metadata": {},
          "execution_count": 6
        }
      ]
    },
    {
      "cell_type": "markdown",
      "source": [
        "Linear Regression Assumptions:\n",
        "\n",
        "1. Linearity: The relationship between the predictors and churn is not linear, which violates the linearity assumption. Logistic regression is more suitable for this binary classification problem.\n",
        "\n",
        "2. Independence of Errors: The Durbin-Watson test result (~2.0) indicates that the residuals are independent, so this assumption is satisfied.\n",
        "\n",
        "3. Homoscedasticity: The residual plot shows heteroscedasticity (funnel shape), violating this assumption.\n",
        "\n",
        "4. Multicollinearity: The high VIF values for several features suggest significant multicollinearity, which violates the assumption of no multicollinearity.\n",
        "\n",
        "5. Normality of Residuals: This assumption is not met since the residuals are not normally distributed, which is expected with a binary target variable."
      ],
      "metadata": {
        "id": "n131v38fZ8ta"
      }
    },
    {
      "cell_type": "code",
      "source": [
        "# Convert the 'Churn' column to numeric\n",
        "df['Churn'] = df['Churn'].map({'Yes': 1, 'No': 0})\n",
        "df['TotalCharges'] = pd.to_numeric(df['TotalCharges'], errors='coerce')\n",
        "\n",
        "# Drop rows with missing values\n",
        "df = df.dropna()"
      ],
      "metadata": {
        "id": "IbWcVfEU3kEm"
      },
      "execution_count": 7,
      "outputs": []
    },
    {
      "cell_type": "code",
      "source": [
        "# One-Hot Encoding of Categorical Variables\n",
        "# Get a list of categorical columns\n",
        "categorical_features = df.select_dtypes(include=['object']).columns.drop('customerID')\n",
        "\n",
        "# Apply one-hot encoding to the categorical features\n",
        "df_encoded = pd.get_dummies(df, columns=categorical_features, drop_first=True)\n",
        "# Convert True/False to 0/1\n",
        "# Ensure all categorical encoded columns are numeric (True/False to 0/1)\n",
        "df_encoded = df_encoded.drop(columns=['customerID'], errors='ignore')\n",
        "df_encoded = df_encoded.astype(int)"
      ],
      "metadata": {
        "id": "iCV7bCLH6XJU"
      },
      "execution_count": 8,
      "outputs": []
    },
    {
      "cell_type": "code",
      "source": [
        "df_encoded.head()"
      ],
      "metadata": {
        "colab": {
          "base_uri": "https://localhost:8080/",
          "height": 290
        },
        "id": "zJpmslMj6tQZ",
        "outputId": "8e5955b0-6bc5-4c32-d78c-ed43c53238e9"
      },
      "execution_count": 9,
      "outputs": [
        {
          "output_type": "execute_result",
          "data": {
            "text/plain": [
              "   SeniorCitizen  tenure  MonthlyCharges  TotalCharges  Churn  gender_Male  \\\n",
              "0              0       1              29            29      0            0   \n",
              "1              0      34              56          1889      0            1   \n",
              "2              0       2              53           108      1            1   \n",
              "3              0      45              42          1840      0            1   \n",
              "4              0       2              70           151      1            0   \n",
              "\n",
              "   Partner_Yes  Dependents_Yes  PhoneService_Yes  \\\n",
              "0            1               0                 0   \n",
              "1            0               0                 1   \n",
              "2            0               0                 1   \n",
              "3            0               0                 0   \n",
              "4            0               0                 1   \n",
              "\n",
              "   MultipleLines_No phone service  ...  StreamingTV_No internet service  \\\n",
              "0                               1  ...                                0   \n",
              "1                               0  ...                                0   \n",
              "2                               0  ...                                0   \n",
              "3                               1  ...                                0   \n",
              "4                               0  ...                                0   \n",
              "\n",
              "   StreamingTV_Yes  StreamingMovies_No internet service  StreamingMovies_Yes  \\\n",
              "0                0                                    0                    0   \n",
              "1                0                                    0                    0   \n",
              "2                0                                    0                    0   \n",
              "3                0                                    0                    0   \n",
              "4                0                                    0                    0   \n",
              "\n",
              "   Contract_One year  Contract_Two year  PaperlessBilling_Yes  \\\n",
              "0                  0                  0                     1   \n",
              "1                  1                  0                     0   \n",
              "2                  0                  0                     1   \n",
              "3                  1                  0                     0   \n",
              "4                  0                  0                     1   \n",
              "\n",
              "   PaymentMethod_Credit card (automatic)  PaymentMethod_Electronic check  \\\n",
              "0                                      0                               1   \n",
              "1                                      0                               0   \n",
              "2                                      0                               0   \n",
              "3                                      0                               0   \n",
              "4                                      0                               1   \n",
              "\n",
              "   PaymentMethod_Mailed check  \n",
              "0                           0  \n",
              "1                           1  \n",
              "2                           1  \n",
              "3                           0  \n",
              "4                           0  \n",
              "\n",
              "[5 rows x 31 columns]"
            ],
            "text/html": [
              "\n",
              "  <div id=\"df-10fa2f23-e107-4fe6-b158-ac274332ea0c\" class=\"colab-df-container\">\n",
              "    <div>\n",
              "<style scoped>\n",
              "    .dataframe tbody tr th:only-of-type {\n",
              "        vertical-align: middle;\n",
              "    }\n",
              "\n",
              "    .dataframe tbody tr th {\n",
              "        vertical-align: top;\n",
              "    }\n",
              "\n",
              "    .dataframe thead th {\n",
              "        text-align: right;\n",
              "    }\n",
              "</style>\n",
              "<table border=\"1\" class=\"dataframe\">\n",
              "  <thead>\n",
              "    <tr style=\"text-align: right;\">\n",
              "      <th></th>\n",
              "      <th>SeniorCitizen</th>\n",
              "      <th>tenure</th>\n",
              "      <th>MonthlyCharges</th>\n",
              "      <th>TotalCharges</th>\n",
              "      <th>Churn</th>\n",
              "      <th>gender_Male</th>\n",
              "      <th>Partner_Yes</th>\n",
              "      <th>Dependents_Yes</th>\n",
              "      <th>PhoneService_Yes</th>\n",
              "      <th>MultipleLines_No phone service</th>\n",
              "      <th>...</th>\n",
              "      <th>StreamingTV_No internet service</th>\n",
              "      <th>StreamingTV_Yes</th>\n",
              "      <th>StreamingMovies_No internet service</th>\n",
              "      <th>StreamingMovies_Yes</th>\n",
              "      <th>Contract_One year</th>\n",
              "      <th>Contract_Two year</th>\n",
              "      <th>PaperlessBilling_Yes</th>\n",
              "      <th>PaymentMethod_Credit card (automatic)</th>\n",
              "      <th>PaymentMethod_Electronic check</th>\n",
              "      <th>PaymentMethod_Mailed check</th>\n",
              "    </tr>\n",
              "  </thead>\n",
              "  <tbody>\n",
              "    <tr>\n",
              "      <th>0</th>\n",
              "      <td>0</td>\n",
              "      <td>1</td>\n",
              "      <td>29</td>\n",
              "      <td>29</td>\n",
              "      <td>0</td>\n",
              "      <td>0</td>\n",
              "      <td>1</td>\n",
              "      <td>0</td>\n",
              "      <td>0</td>\n",
              "      <td>1</td>\n",
              "      <td>...</td>\n",
              "      <td>0</td>\n",
              "      <td>0</td>\n",
              "      <td>0</td>\n",
              "      <td>0</td>\n",
              "      <td>0</td>\n",
              "      <td>0</td>\n",
              "      <td>1</td>\n",
              "      <td>0</td>\n",
              "      <td>1</td>\n",
              "      <td>0</td>\n",
              "    </tr>\n",
              "    <tr>\n",
              "      <th>1</th>\n",
              "      <td>0</td>\n",
              "      <td>34</td>\n",
              "      <td>56</td>\n",
              "      <td>1889</td>\n",
              "      <td>0</td>\n",
              "      <td>1</td>\n",
              "      <td>0</td>\n",
              "      <td>0</td>\n",
              "      <td>1</td>\n",
              "      <td>0</td>\n",
              "      <td>...</td>\n",
              "      <td>0</td>\n",
              "      <td>0</td>\n",
              "      <td>0</td>\n",
              "      <td>0</td>\n",
              "      <td>1</td>\n",
              "      <td>0</td>\n",
              "      <td>0</td>\n",
              "      <td>0</td>\n",
              "      <td>0</td>\n",
              "      <td>1</td>\n",
              "    </tr>\n",
              "    <tr>\n",
              "      <th>2</th>\n",
              "      <td>0</td>\n",
              "      <td>2</td>\n",
              "      <td>53</td>\n",
              "      <td>108</td>\n",
              "      <td>1</td>\n",
              "      <td>1</td>\n",
              "      <td>0</td>\n",
              "      <td>0</td>\n",
              "      <td>1</td>\n",
              "      <td>0</td>\n",
              "      <td>...</td>\n",
              "      <td>0</td>\n",
              "      <td>0</td>\n",
              "      <td>0</td>\n",
              "      <td>0</td>\n",
              "      <td>0</td>\n",
              "      <td>0</td>\n",
              "      <td>1</td>\n",
              "      <td>0</td>\n",
              "      <td>0</td>\n",
              "      <td>1</td>\n",
              "    </tr>\n",
              "    <tr>\n",
              "      <th>3</th>\n",
              "      <td>0</td>\n",
              "      <td>45</td>\n",
              "      <td>42</td>\n",
              "      <td>1840</td>\n",
              "      <td>0</td>\n",
              "      <td>1</td>\n",
              "      <td>0</td>\n",
              "      <td>0</td>\n",
              "      <td>0</td>\n",
              "      <td>1</td>\n",
              "      <td>...</td>\n",
              "      <td>0</td>\n",
              "      <td>0</td>\n",
              "      <td>0</td>\n",
              "      <td>0</td>\n",
              "      <td>1</td>\n",
              "      <td>0</td>\n",
              "      <td>0</td>\n",
              "      <td>0</td>\n",
              "      <td>0</td>\n",
              "      <td>0</td>\n",
              "    </tr>\n",
              "    <tr>\n",
              "      <th>4</th>\n",
              "      <td>0</td>\n",
              "      <td>2</td>\n",
              "      <td>70</td>\n",
              "      <td>151</td>\n",
              "      <td>1</td>\n",
              "      <td>0</td>\n",
              "      <td>0</td>\n",
              "      <td>0</td>\n",
              "      <td>1</td>\n",
              "      <td>0</td>\n",
              "      <td>...</td>\n",
              "      <td>0</td>\n",
              "      <td>0</td>\n",
              "      <td>0</td>\n",
              "      <td>0</td>\n",
              "      <td>0</td>\n",
              "      <td>0</td>\n",
              "      <td>1</td>\n",
              "      <td>0</td>\n",
              "      <td>1</td>\n",
              "      <td>0</td>\n",
              "    </tr>\n",
              "  </tbody>\n",
              "</table>\n",
              "<p>5 rows × 31 columns</p>\n",
              "</div>\n",
              "    <div class=\"colab-df-buttons\">\n",
              "\n",
              "  <div class=\"colab-df-container\">\n",
              "    <button class=\"colab-df-convert\" onclick=\"convertToInteractive('df-10fa2f23-e107-4fe6-b158-ac274332ea0c')\"\n",
              "            title=\"Convert this dataframe to an interactive table.\"\n",
              "            style=\"display:none;\">\n",
              "\n",
              "  <svg xmlns=\"http://www.w3.org/2000/svg\" height=\"24px\" viewBox=\"0 -960 960 960\">\n",
              "    <path d=\"M120-120v-720h720v720H120Zm60-500h600v-160H180v160Zm220 220h160v-160H400v160Zm0 220h160v-160H400v160ZM180-400h160v-160H180v160Zm440 0h160v-160H620v160ZM180-180h160v-160H180v160Zm440 0h160v-160H620v160Z\"/>\n",
              "  </svg>\n",
              "    </button>\n",
              "\n",
              "  <style>\n",
              "    .colab-df-container {\n",
              "      display:flex;\n",
              "      gap: 12px;\n",
              "    }\n",
              "\n",
              "    .colab-df-convert {\n",
              "      background-color: #E8F0FE;\n",
              "      border: none;\n",
              "      border-radius: 50%;\n",
              "      cursor: pointer;\n",
              "      display: none;\n",
              "      fill: #1967D2;\n",
              "      height: 32px;\n",
              "      padding: 0 0 0 0;\n",
              "      width: 32px;\n",
              "    }\n",
              "\n",
              "    .colab-df-convert:hover {\n",
              "      background-color: #E2EBFA;\n",
              "      box-shadow: 0px 1px 2px rgba(60, 64, 67, 0.3), 0px 1px 3px 1px rgba(60, 64, 67, 0.15);\n",
              "      fill: #174EA6;\n",
              "    }\n",
              "\n",
              "    .colab-df-buttons div {\n",
              "      margin-bottom: 4px;\n",
              "    }\n",
              "\n",
              "    [theme=dark] .colab-df-convert {\n",
              "      background-color: #3B4455;\n",
              "      fill: #D2E3FC;\n",
              "    }\n",
              "\n",
              "    [theme=dark] .colab-df-convert:hover {\n",
              "      background-color: #434B5C;\n",
              "      box-shadow: 0px 1px 3px 1px rgba(0, 0, 0, 0.15);\n",
              "      filter: drop-shadow(0px 1px 2px rgba(0, 0, 0, 0.3));\n",
              "      fill: #FFFFFF;\n",
              "    }\n",
              "  </style>\n",
              "\n",
              "    <script>\n",
              "      const buttonEl =\n",
              "        document.querySelector('#df-10fa2f23-e107-4fe6-b158-ac274332ea0c button.colab-df-convert');\n",
              "      buttonEl.style.display =\n",
              "        google.colab.kernel.accessAllowed ? 'block' : 'none';\n",
              "\n",
              "      async function convertToInteractive(key) {\n",
              "        const element = document.querySelector('#df-10fa2f23-e107-4fe6-b158-ac274332ea0c');\n",
              "        const dataTable =\n",
              "          await google.colab.kernel.invokeFunction('convertToInteractive',\n",
              "                                                    [key], {});\n",
              "        if (!dataTable) return;\n",
              "\n",
              "        const docLinkHtml = 'Like what you see? Visit the ' +\n",
              "          '<a target=\"_blank\" href=https://colab.research.google.com/notebooks/data_table.ipynb>data table notebook</a>'\n",
              "          + ' to learn more about interactive tables.';\n",
              "        element.innerHTML = '';\n",
              "        dataTable['output_type'] = 'display_data';\n",
              "        await google.colab.output.renderOutput(dataTable, element);\n",
              "        const docLink = document.createElement('div');\n",
              "        docLink.innerHTML = docLinkHtml;\n",
              "        element.appendChild(docLink);\n",
              "      }\n",
              "    </script>\n",
              "  </div>\n",
              "\n",
              "\n",
              "<div id=\"df-1565956e-f974-41e2-add9-68f6cc0d3095\">\n",
              "  <button class=\"colab-df-quickchart\" onclick=\"quickchart('df-1565956e-f974-41e2-add9-68f6cc0d3095')\"\n",
              "            title=\"Suggest charts\"\n",
              "            style=\"display:none;\">\n",
              "\n",
              "<svg xmlns=\"http://www.w3.org/2000/svg\" height=\"24px\"viewBox=\"0 0 24 24\"\n",
              "     width=\"24px\">\n",
              "    <g>\n",
              "        <path d=\"M19 3H5c-1.1 0-2 .9-2 2v14c0 1.1.9 2 2 2h14c1.1 0 2-.9 2-2V5c0-1.1-.9-2-2-2zM9 17H7v-7h2v7zm4 0h-2V7h2v10zm4 0h-2v-4h2v4z\"/>\n",
              "    </g>\n",
              "</svg>\n",
              "  </button>\n",
              "\n",
              "<style>\n",
              "  .colab-df-quickchart {\n",
              "      --bg-color: #E8F0FE;\n",
              "      --fill-color: #1967D2;\n",
              "      --hover-bg-color: #E2EBFA;\n",
              "      --hover-fill-color: #174EA6;\n",
              "      --disabled-fill-color: #AAA;\n",
              "      --disabled-bg-color: #DDD;\n",
              "  }\n",
              "\n",
              "  [theme=dark] .colab-df-quickchart {\n",
              "      --bg-color: #3B4455;\n",
              "      --fill-color: #D2E3FC;\n",
              "      --hover-bg-color: #434B5C;\n",
              "      --hover-fill-color: #FFFFFF;\n",
              "      --disabled-bg-color: #3B4455;\n",
              "      --disabled-fill-color: #666;\n",
              "  }\n",
              "\n",
              "  .colab-df-quickchart {\n",
              "    background-color: var(--bg-color);\n",
              "    border: none;\n",
              "    border-radius: 50%;\n",
              "    cursor: pointer;\n",
              "    display: none;\n",
              "    fill: var(--fill-color);\n",
              "    height: 32px;\n",
              "    padding: 0;\n",
              "    width: 32px;\n",
              "  }\n",
              "\n",
              "  .colab-df-quickchart:hover {\n",
              "    background-color: var(--hover-bg-color);\n",
              "    box-shadow: 0 1px 2px rgba(60, 64, 67, 0.3), 0 1px 3px 1px rgba(60, 64, 67, 0.15);\n",
              "    fill: var(--button-hover-fill-color);\n",
              "  }\n",
              "\n",
              "  .colab-df-quickchart-complete:disabled,\n",
              "  .colab-df-quickchart-complete:disabled:hover {\n",
              "    background-color: var(--disabled-bg-color);\n",
              "    fill: var(--disabled-fill-color);\n",
              "    box-shadow: none;\n",
              "  }\n",
              "\n",
              "  .colab-df-spinner {\n",
              "    border: 2px solid var(--fill-color);\n",
              "    border-color: transparent;\n",
              "    border-bottom-color: var(--fill-color);\n",
              "    animation:\n",
              "      spin 1s steps(1) infinite;\n",
              "  }\n",
              "\n",
              "  @keyframes spin {\n",
              "    0% {\n",
              "      border-color: transparent;\n",
              "      border-bottom-color: var(--fill-color);\n",
              "      border-left-color: var(--fill-color);\n",
              "    }\n",
              "    20% {\n",
              "      border-color: transparent;\n",
              "      border-left-color: var(--fill-color);\n",
              "      border-top-color: var(--fill-color);\n",
              "    }\n",
              "    30% {\n",
              "      border-color: transparent;\n",
              "      border-left-color: var(--fill-color);\n",
              "      border-top-color: var(--fill-color);\n",
              "      border-right-color: var(--fill-color);\n",
              "    }\n",
              "    40% {\n",
              "      border-color: transparent;\n",
              "      border-right-color: var(--fill-color);\n",
              "      border-top-color: var(--fill-color);\n",
              "    }\n",
              "    60% {\n",
              "      border-color: transparent;\n",
              "      border-right-color: var(--fill-color);\n",
              "    }\n",
              "    80% {\n",
              "      border-color: transparent;\n",
              "      border-right-color: var(--fill-color);\n",
              "      border-bottom-color: var(--fill-color);\n",
              "    }\n",
              "    90% {\n",
              "      border-color: transparent;\n",
              "      border-bottom-color: var(--fill-color);\n",
              "    }\n",
              "  }\n",
              "</style>\n",
              "\n",
              "  <script>\n",
              "    async function quickchart(key) {\n",
              "      const quickchartButtonEl =\n",
              "        document.querySelector('#' + key + ' button');\n",
              "      quickchartButtonEl.disabled = true;  // To prevent multiple clicks.\n",
              "      quickchartButtonEl.classList.add('colab-df-spinner');\n",
              "      try {\n",
              "        const charts = await google.colab.kernel.invokeFunction(\n",
              "            'suggestCharts', [key], {});\n",
              "      } catch (error) {\n",
              "        console.error('Error during call to suggestCharts:', error);\n",
              "      }\n",
              "      quickchartButtonEl.classList.remove('colab-df-spinner');\n",
              "      quickchartButtonEl.classList.add('colab-df-quickchart-complete');\n",
              "    }\n",
              "    (() => {\n",
              "      let quickchartButtonEl =\n",
              "        document.querySelector('#df-1565956e-f974-41e2-add9-68f6cc0d3095 button');\n",
              "      quickchartButtonEl.style.display =\n",
              "        google.colab.kernel.accessAllowed ? 'block' : 'none';\n",
              "    })();\n",
              "  </script>\n",
              "</div>\n",
              "\n",
              "    </div>\n",
              "  </div>\n"
            ],
            "application/vnd.google.colaboratory.intrinsic+json": {
              "type": "dataframe",
              "variable_name": "df_encoded"
            }
          },
          "metadata": {},
          "execution_count": 9
        }
      ]
    },
    {
      "cell_type": "code",
      "source": [
        "## Exploratory Data Analysis to check Assumptions:\n",
        "\n",
        "# Check Linearity\n",
        "# Plot tenure vs Churn\n",
        "plt.figure(figsize=(8, 6))\n",
        "plt.scatter(df_encoded['tenure'], df_encoded['Churn'], alpha=0.3)\n",
        "plt.title('Tenure vs. Churn (Linearity Check)')\n",
        "plt.xlabel('Tenure')\n",
        "plt.ylabel('Churn')\n",
        "plt.show()\n",
        "\n",
        "# Plot MonthlyCharges vs Churn\n",
        "plt.figure(figsize=(8, 6))\n",
        "plt.scatter(df_encoded['MonthlyCharges'], df_encoded['Churn'], alpha=0.3)\n",
        "plt.title('MonthlyCharges vs. Churn (Linearity Check)')\n",
        "plt.xlabel('MonthlyCharges')\n",
        "plt.ylabel('Churn')\n",
        "plt.show()\n",
        "\n",
        "# Plot TotalCharges vs Churn\n",
        "plt.figure(figsize=(8, 6))\n",
        "plt.scatter(df_encoded['TotalCharges'], df_encoded['Churn'], alpha=0.3)\n",
        "plt.title('TotalCharges vs. Churn (Linearity Check)')\n",
        "plt.xlabel('TotalCharges')\n",
        "plt.ylabel('Churn')\n",
        "plt.show()\n",
        "\n",
        "# Correlation Heatmap (Key Numeric Features and Churn)\n",
        "plt.figure(figsize=(10, 8))\n",
        "correlation_matrix = df_encoded[['tenure', 'MonthlyCharges', 'TotalCharges', 'Churn']].corr()\n",
        "sns.heatmap(correlation_matrix, annot=True, cmap='coolwarm', vmin=-1, vmax=1)\n",
        "plt.title('Correlation Heatmap')\n",
        "plt.show()\n",
        "\n",
        "# VIF (Variance Inflation Factor)\n",
        "X = df_encoded.drop(columns=['Churn'])\n",
        "vif_data = pd.DataFrame()\n",
        "vif_data[\"Feature\"] = X.columns\n",
        "vif_data[\"VIF\"] = [variance_inflation_factor(X.values, i) for i in range(X.shape[1])]\n",
        "print(vif_data.sort_values(by=\"VIF\", ascending=False))"
      ],
      "metadata": {
        "colab": {
          "base_uri": "https://localhost:8080/",
          "height": 1000
        },
        "id": "BS5xcMd074XT",
        "outputId": "07ac695c-c830-4983-cf95-7e5577ea8b43"
      },
      "execution_count": 10,
      "outputs": [
        {
          "output_type": "display_data",
          "data": {
            "text/plain": [
              "<Figure size 800x600 with 1 Axes>"
            ],
            "image/png": "[encoded data removed]"
          },
          "metadata": {}
        },
        {
          "output_type": "display_data",
          "data": {
            "text/plain": [
              "<Figure size 800x600 with 1 Axes>"
            ],
            "image/png": "[encoded data removed]"
          },
          "metadata": {}
        },
        {
          "output_type": "display_data",
          "data": {
            "text/plain": [
              "<Figure size 800x600 with 1 Axes>"
            ],
            "image/png": "[encoded data removed]"
          },
          "metadata": {}
        },
        {
          "output_type": "display_data",
          "data": {
            "text/plain": [
              "<Figure size 1000x800 with 2 Axes>"
            ],
            "image/png": "[encoded data removed]"
          },
          "metadata": {}
        },
        {
          "output_type": "stream",
          "name": "stderr",
          "text": [
            "/usr/local/lib/python3.10/dist-packages/statsmodels/stats/outliers_influence.py:197: RuntimeWarning: divide by zero encountered in scalar divide\n",
            "  vif = 1. / (1. - r_squared_i)\n"
          ]
        },
        {
          "output_type": "stream",
          "name": "stdout",
          "text": [
            "                                  Feature          VIF\n",
            "11                     InternetService_No          inf\n",
            "12     OnlineSecurity_No internet service          inf\n",
            "20        StreamingTV_No internet service          inf\n",
            "18        TechSupport_No internet service          inf\n",
            "16   DeviceProtection_No internet service          inf\n",
            "14       OnlineBackup_No internet service          inf\n",
            "22    StreamingMovies_No internet service          inf\n",
            "7                        PhoneService_Yes  1610.790977\n",
            "2                          MonthlyCharges   802.929728\n",
            "10            InternetService_Fiber optic   137.812496\n",
            "8          MultipleLines_No phone service    54.666670\n",
            "23                    StreamingMovies_Yes    22.500393\n",
            "21                        StreamingTV_Yes    22.410836\n",
            "3                            TotalCharges    10.817632\n",
            "1                                  tenure     7.587550\n",
            "9                       MultipleLines_Yes     6.878374\n",
            "17                   DeviceProtection_Yes     6.515802\n",
            "15                       OnlineBackup_Yes     6.385406\n",
            "19                        TechSupport_Yes     6.116869\n",
            "13                     OnlineSecurity_Yes     5.986019\n",
            "25                      Contract_Two year     2.652316\n",
            "28         PaymentMethod_Electronic check     1.976025\n",
            "29             PaymentMethod_Mailed check     1.856947\n",
            "24                      Contract_One year     1.625832\n",
            "27  PaymentMethod_Credit card (automatic)     1.561115\n",
            "5                             Partner_Yes     1.462841\n",
            "6                          Dependents_Yes     1.381568\n",
            "26                   PaperlessBilling_Yes     1.208448\n",
            "0                           SeniorCitizen     1.153201\n",
            "4                             gender_Male     1.001978\n"
          ]
        }
      ]
    },
    {
      "cell_type": "markdown",
      "source": [
        "Variance Inflation Factor (VIF) Table: Features like InternetService_No, OnlineSecurity_No internet service, and others show inf (infinite) VIF values, indicating perfect or near-perfect multicollinearity. This is likely due to the mutually exclusive nature of these features (e.g., if a customer has no internet, they can't have certain services).\n",
        "PhoneService_Yes and MonthlyCharges also have extremely high VIF values, indicating multicollinearity."
      ],
      "metadata": {
        "id": "AvlD9cSVKLjf"
      }
    },
    {
      "cell_type": "code",
      "source": [
        "# Target variable (Churn)\n",
        "y = df_encoded['Churn']\n",
        "\n",
        "# Ensure 'Churn' is excluded from the feature set\n",
        "X = df_encoded.drop(columns=['Churn'])\n",
        "\n",
        "# Define feature names (after excluding 'Churn')\n",
        "feature_names = X.columns\n",
        "\n",
        "# Split the data into training and testing sets\n",
        "X_train, X_test, y_train, y_test = train_test_split(X, y, test_size=0.2, random_state=42)\n",
        "\n",
        "# Scale the features (important for regression models like Ridge and Lasso)\n",
        "scaler = StandardScaler()\n",
        "X_train_scaled = scaler.fit_transform(X_train)\n",
        "X_test_scaled = scaler.transform(X_test)\n",
        "\n",
        "# Check the shapes for debugging purposes\n",
        "print(f\"Shape of X_train_scaled: {X_train_scaled.shape}\")\n",
        "print(f\"Number of feature names: {len(feature_names)}\")"
      ],
      "metadata": {
        "id": "UDDGvo3Y4QEc",
        "colab": {
          "base_uri": "https://localhost:8080/"
        },
        "outputId": "381b47a0-b080-49e9-ac01-f6108bdd8182"
      },
      "execution_count": 12,
      "outputs": [
        {
          "output_type": "stream",
          "name": "stdout",
          "text": [
            "Shape of X_train_scaled: (5625, 30)\n",
            "Number of feature names: 30\n"
          ]
        }
      ]
    },
    {
      "cell_type": "code",
      "source": [
        "# Function to fit and evaluate models\n",
        "def evaluate_model(model, X_train, X_test, y_train, y_test, model_name, feature_names):\n",
        "    model.fit(X_train, y_train)\n",
        "\n",
        "    y_pred = model.predict(X_test)\n",
        "    mse = mean_squared_error(y_test, y_pred)\n",
        "    r2 = r2_score(y_test, y_pred)\n",
        "    adj_r2 = 1 - (1 - r2) * (len(y_test) - 1) / (len(y_test) - X_train.shape[1] - 1)\n",
        "\n",
        "    print(f\"\\n{model_name}:\")\n",
        "    print(f\"MSE: {mse:.4f}\")\n",
        "    print(f\"R2 Score: {r2:.4f}\")\n",
        "    print(f\"Adjusted R2 Score: {adj_r2:.4f}\")\n",
        "\n",
        "    # Display top 10 coefficients for interpretability\n",
        "    coef = pd.Series(model.coef_, index=feature_names)  # Ensure correct feature names are used\n",
        "    print(\"Top 10 Coefficients:\")\n",
        "    print(coef.sort_values(key=abs, ascending=False)[:10])\n",
        "\n",
        "    return model, y_pred"
      ],
      "metadata": {
        "id": "SqT3U6nsyBOn"
      },
      "execution_count": 13,
      "outputs": []
    },
    {
      "cell_type": "code",
      "source": [
        "# Linear Regression Model\n",
        "lr_model, lr_pred = evaluate_model(LinearRegression(), X_train_scaled, X_test_scaled, y_train, y_test, \"Linear Regression\", feature_names)\n",
        "# Ridge Regression Model\n",
        "ridge_model, ridge_pred = evaluate_model(Ridge(alpha=1.0), X_train_scaled, X_test_scaled, y_train, y_test, \"Ridge Regression\", feature_names)\n",
        "# Lasso Regression Model\n",
        "lasso_model, lasso_pred = evaluate_model(Lasso(alpha=0.1), X_train_scaled, X_test_scaled, y_train, y_test, \"Lasso Regression\", feature_names)"
      ],
      "metadata": {
        "colab": {
          "base_uri": "https://localhost:8080/"
        },
        "id": "EIWc6ThO4pQb",
        "outputId": "404f2f03-e11e-4bf3-bfcc-7cfef0f3bb70"
      },
      "execution_count": 14,
      "outputs": [
        {
          "output_type": "stream",
          "name": "stdout",
          "text": [
            "\n",
            "Linear Regression:\n",
            "MSE: 0.1459\n",
            "R2 Score: 0.2524\n",
            "Adjusted R2 Score: 0.2361\n",
            "Top 10 Coefficients:\n",
            "InternetService_Fiber optic       0.113458\n",
            "TotalCharges                     -0.103233\n",
            "MonthlyCharges                   -0.056418\n",
            "Contract_One year                -0.047689\n",
            "tenure                           -0.046151\n",
            "StreamingMovies_Yes               0.037734\n",
            "StreamingTV_Yes                   0.036125\n",
            "Contract_Two year                -0.031810\n",
            "PaymentMethod_Electronic check    0.029480\n",
            "MultipleLines_Yes                 0.029346\n",
            "dtype: float64\n",
            "\n",
            "Ridge Regression:\n",
            "MSE: 0.1459\n",
            "R2 Score: 0.2525\n",
            "Adjusted R2 Score: 0.2362\n",
            "Top 10 Coefficients:\n",
            "InternetService_Fiber optic       0.107515\n",
            "TotalCharges                     -0.103137\n",
            "Contract_One year                -0.047685\n",
            "tenure                           -0.046196\n",
            "MonthlyCharges                   -0.042060\n",
            "StreamingMovies_Yes               0.035407\n",
            "StreamingTV_Yes                   0.033805\n",
            "Contract_Two year                -0.031796\n",
            "PaymentMethod_Electronic check    0.029473\n",
            "MultipleLines_Yes                 0.028154\n",
            "dtype: float64\n",
            "\n",
            "Lasso Regression:\n",
            "MSE: 0.1712\n",
            "R2 Score: 0.1228\n",
            "Adjusted R2 Score: 0.1036\n",
            "Top 10 Coefficients:\n",
            "tenure                                  -0.055203\n",
            "InternetService_Fiber optic              0.037216\n",
            "PaymentMethod_Electronic check           0.007965\n",
            "SeniorCitizen                            0.000000\n",
            "DeviceProtection_No internet service    -0.000000\n",
            "PaymentMethod_Credit card (automatic)   -0.000000\n",
            "PaperlessBilling_Yes                     0.000000\n",
            "Contract_Two year                       -0.000000\n",
            "Contract_One year                       -0.000000\n",
            "StreamingMovies_Yes                      0.000000\n",
            "dtype: float64\n"
          ]
        }
      ]
    },
    {
      "cell_type": "code",
      "source": [
        "# Residual Plot\n",
        "def plot_residuals(y_test, y_pred, model_name):\n",
        "    residuals = y_test - y_pred\n",
        "    plt.figure(figsize=(10, 6))\n",
        "\n",
        "    # Scatter plot with transparency\n",
        "    plt.scatter(y_pred, residuals, alpha=0.5)\n",
        "\n",
        "    # Labels and title\n",
        "    plt.xlabel('Predicted Values')\n",
        "    plt.ylabel('Residuals')\n",
        "    plt.title(f'Residual Plot - {model_name}')\n",
        "\n",
        "    # Horizontal line at residual = 0\n",
        "    plt.axhline(y=0, color='r', linestyle='--')\n",
        "\n",
        "    plt.tight_layout()\n",
        "    plt.show()\n",
        "\n",
        "# Ensure y_test is compatible with y_pred (convert to numpy if needed)\n",
        "plot_residuals(y_test, lr_pred, 'Linear Regression')"
      ],
      "metadata": {
        "colab": {
          "base_uri": "https://localhost:8080/",
          "height": 577
        },
        "id": "NSb-AveI-g2O",
        "outputId": "ad76fc1b-f90c-45dd-ba0c-b98c7c82e1a8"
      },
      "execution_count": 15,
      "outputs": [
        {
          "output_type": "display_data",
          "data": {
            "text/plain": [
              "<Figure size 1000x600 with 1 Axes>"
            ],
            "image/png": "[encoded data removed]"
          },
          "metadata": {}
        }
      ]
    },
    {
      "cell_type": "code",
      "source": [
        "# Actual vs Predicted Plot\n",
        "def plot_actual_vs_predicted(y_test, y_pred, model_name):\n",
        "    plt.figure(figsize=(10, 6))\n",
        "    plt.scatter(y_test, y_pred, alpha=0.5)\n",
        "    plt.plot([y_test.min(), y_test.max()], [y_test.min(), y_test.max()], 'r--', lw=2)\n",
        "    plt.xlabel('Actual Values')\n",
        "    plt.ylabel('Predicted Values')\n",
        "    plt.title(f'Actual vs Predicted - {model_name}')\n",
        "    plt.tight_layout()\n",
        "    plt.show()\n",
        "\n",
        "plot_actual_vs_predicted(y_test, lr_pred, 'Linear Regression')"
      ],
      "metadata": {
        "colab": {
          "base_uri": "https://localhost:8080/",
          "height": 577
        },
        "id": "5WD5tb70-nV4",
        "outputId": "9c1e2db2-5d6a-478f-c454-496353f8dfd4"
      },
      "execution_count": 16,
      "outputs": [
        {
          "output_type": "display_data",
          "data": {
            "text/plain": [
              "<Figure size 1000x600 with 1 Axes>"
            ],
            "image/png": "[encoded data removed]"
          },
          "metadata": {}
        }
      ]
    },
    {
      "cell_type": "code",
      "source": [
        "#Check for autocorrelation\n",
        "# Residuals for the linear regression model\n",
        "lr_residuals = y_test - lr_pred\n",
        "\n",
        "# Calculate DW statistic\n",
        "dw_statistic = durbin_watson(lr_residuals)\n",
        "\n",
        "print(f'Durbin-Watson statistic for Linear Regression: {dw_statistic:.4f}')"
      ],
      "metadata": {
        "colab": {
          "base_uri": "https://localhost:8080/"
        },
        "id": "mxZugyaZJEcY",
        "outputId": "39340344-7f6a-45df-8793-93bdca910ad3"
      },
      "execution_count": 17,
      "outputs": [
        {
          "output_type": "stream",
          "name": "stdout",
          "text": [
            "Durbin-Watson statistic for Linear Regression: 2.0013\n"
          ]
        }
      ]
    },
    {
      "cell_type": "markdown",
      "source": [
        "DW test indicates nearly no autocorrelation"
      ],
      "metadata": {
        "id": "P-WMyfeiK6Yc"
      }
    },
    {
      "cell_type": "markdown",
      "source": [
        "Losgistic Regression\n",
        "\n",
        "Assumptions:\n",
        "1. Binary or Dichotomous Dependent Variable: Met as Churn is binary\n",
        "2. Independence of Observations\n",
        "3. Linearity of Independent Variables and log odds, violated as certain continous variables failed to show linearity from BT test.\n",
        "4. No Multicollinearity: VIF computation above indicates the data has Multicollinearity, excluded the one with high multicollinearity\n"
      ],
      "metadata": {
        "id": "ri-VI-ePMJIb"
      }
    },
    {
      "cell_type": "code",
      "source": [
        "# Remove 'Churn' column from df_encoded before proceeding (it should be in y)\n",
        "X = df_encoded.drop(columns=['Churn', 'customerID'], errors='ignore')\n",
        "y = df_encoded['Churn']\n",
        "# Add a constant (intercept) to the model\n",
        "X = add_constant(X)"
      ],
      "metadata": {
        "id": "Y41ZiZiyp-S4"
      },
      "execution_count": 25,
      "outputs": []
    },
    {
      "cell_type": "code",
      "source": [
        "# Recompute VIF to check for multicollinearity\n",
        "X_no_const = X.drop(columns=['const'], errors='ignore')  # Exclude the constant term for VIF calculation\n",
        "vif_data = pd.DataFrame()\n",
        "vif_data['Feature'] = X_no_const.columns\n",
        "vif_data['VIF'] = [variance_inflation_factor(X_no_const.values, i) for i in range(X_no_const.shape[1])]\n",
        "\n",
        "# Display VIF values\n",
        "print(vif_data.sort_values(by=\"VIF\", ascending=False))\n",
        "\n",
        "# Drop features with VIF greater than a threshold (say, VIF > 10 indicates high multicollinearity)\n",
        "high_vif_features = vif_data[vif_data['VIF'] > 10]['Feature'].tolist()\n",
        "print(f\"Features with high VIF: {high_vif_features}\")\n",
        "\n",
        "# Drop high VIF features\n",
        "X_reduced = X_no_const.drop(columns=high_vif_features, errors='ignore')\n",
        "\n",
        "# Add the constant back to the reduced feature set\n",
        "X_reduced = add_constant(X_reduced)\n",
        "\n",
        "# Box-Tidwell Test (Linearity Assumption) for continuous variables\n",
        "continuous_features = ['tenure']  # Select continuous variables\n",
        "X_reduced[continuous_features] = X_reduced[continuous_features].replace(0, 0.0001)\n",
        "\n",
        "# Create interaction terms (X * log(X)) for each continuous variable\n",
        "for feature in continuous_features:\n",
        "    X_reduced[feature + '_log'] = X_reduced[feature] * np.log(X_reduced[feature])\n",
        "\n",
        "# Fit the logistic regression model with interaction terms for Box-Tidwell test\n",
        "logit_model_bt = sm.Logit(y, X_reduced)\n",
        "result_bt = logit_model_bt.fit()\n",
        "\n",
        "print(\"\\nBox-Tidwell Test Results:\")\n",
        "print(result_bt.summary())\n",
        "\n",
        "# Split the data into training and testing sets\n"
      ],
      "metadata": {
        "colab": {
          "base_uri": "https://localhost:8080/"
        },
        "id": "8sTowoEa4Ol8",
        "outputId": "74d8234e-ba77-40ca-8e05-c759e9b42a0b"
      },
      "execution_count": 27,
      "outputs": [
        {
          "output_type": "stream",
          "name": "stderr",
          "text": [
            "/usr/local/lib/python3.10/dist-packages/statsmodels/stats/outliers_influence.py:197: RuntimeWarning: divide by zero encountered in scalar divide\n",
            "  vif = 1. / (1. - r_squared_i)\n"
          ]
        },
        {
          "output_type": "stream",
          "name": "stdout",
          "text": [
            "                                  Feature          VIF\n",
            "11                     InternetService_No          inf\n",
            "12     OnlineSecurity_No internet service          inf\n",
            "20        StreamingTV_No internet service          inf\n",
            "18        TechSupport_No internet service          inf\n",
            "16   DeviceProtection_No internet service          inf\n",
            "14       OnlineBackup_No internet service          inf\n",
            "22    StreamingMovies_No internet service          inf\n",
            "7                        PhoneService_Yes  1610.790977\n",
            "2                          MonthlyCharges   802.929728\n",
            "10            InternetService_Fiber optic   137.812496\n",
            "8          MultipleLines_No phone service    54.666670\n",
            "23                    StreamingMovies_Yes    22.500393\n",
            "21                        StreamingTV_Yes    22.410836\n",
            "3                            TotalCharges    10.817632\n",
            "1                                  tenure     7.587550\n",
            "9                       MultipleLines_Yes     6.878374\n",
            "17                   DeviceProtection_Yes     6.515802\n",
            "15                       OnlineBackup_Yes     6.385406\n",
            "19                        TechSupport_Yes     6.116869\n",
            "13                     OnlineSecurity_Yes     5.986019\n",
            "25                      Contract_Two year     2.652316\n",
            "28         PaymentMethod_Electronic check     1.976025\n",
            "29             PaymentMethod_Mailed check     1.856947\n",
            "24                      Contract_One year     1.625832\n",
            "27  PaymentMethod_Credit card (automatic)     1.561115\n",
            "5                             Partner_Yes     1.462841\n",
            "6                          Dependents_Yes     1.381568\n",
            "26                   PaperlessBilling_Yes     1.208448\n",
            "0                           SeniorCitizen     1.153201\n",
            "4                             gender_Male     1.001978\n",
            "Features with high VIF: ['MonthlyCharges', 'TotalCharges', 'PhoneService_Yes', 'MultipleLines_No phone service', 'InternetService_Fiber optic', 'InternetService_No', 'OnlineSecurity_No internet service', 'OnlineBackup_No internet service', 'DeviceProtection_No internet service', 'TechSupport_No internet service', 'StreamingTV_No internet service', 'StreamingTV_Yes', 'StreamingMovies_No internet service', 'StreamingMovies_Yes']\n",
            "Optimization terminated successfully.\n",
            "         Current function value: 0.431163\n",
            "         Iterations 8\n",
            "\n",
            "Box-Tidwell Test Results:\n",
            "                           Logit Regression Results                           \n",
            "==============================================================================\n",
            "Dep. Variable:                  Churn   No. Observations:                 7032\n",
            "Model:                          Logit   Df Residuals:                     7014\n",
            "Method:                           MLE   Df Model:                           17\n",
            "Date:                Wed, 18 Sep 2024   Pseudo R-squ.:                  0.2554\n",
            "Time:                        16:40:14   Log-Likelihood:                -3031.9\n",
            "converged:                       True   LL-Null:                       -4071.7\n",
            "Covariance Type:            nonrobust   LLR p-value:                     0.000\n",
            "=========================================================================================================\n",
            "                                            coef    std err          z      P>|z|      [0.025      0.975]\n",
            "---------------------------------------------------------------------------------------------------------\n",
            "const                                    -0.0093      0.126     -0.074      0.941      -0.255       0.237\n",
            "SeniorCitizen                             0.3869      0.083      4.669      0.000       0.224       0.549\n",
            "tenure                                   -0.1904      0.017    -10.938      0.000      -0.225      -0.156\n",
            "gender_Male                              -0.0374      0.064     -0.588      0.556      -0.162       0.087\n",
            "Partner_Yes                               0.0605      0.077      0.789      0.430      -0.090       0.211\n",
            "Dependents_Yes                           -0.2301      0.088     -2.625      0.009      -0.402      -0.058\n",
            "MultipleLines_Yes                         0.6117      0.073      8.358      0.000       0.468       0.755\n",
            "OnlineSecurity_Yes                       -0.2851      0.083     -3.448      0.001      -0.447      -0.123\n",
            "OnlineBackup_Yes                          0.0177      0.076      0.234      0.815      -0.131       0.166\n",
            "DeviceProtection_Yes                      0.3320      0.076      4.356      0.000       0.183       0.481\n",
            "TechSupport_Yes                          -0.1646      0.083     -1.978      0.048      -0.328      -0.002\n",
            "Contract_One year                        -0.9217      0.105     -8.810      0.000      -1.127      -0.717\n",
            "Contract_Two year                        -2.1495      0.178    -12.048      0.000      -2.499      -1.800\n",
            "PaperlessBilling_Yes                      0.6203      0.072      8.660      0.000       0.480       0.761\n",
            "PaymentMethod_Credit card (automatic)    -0.1113      0.111     -1.004      0.315      -0.329       0.106\n",
            "PaymentMethod_Electronic check            0.4823      0.092      5.259      0.000       0.303       0.662\n",
            "PaymentMethod_Mailed check               -0.4179      0.111     -3.770      0.000      -0.635      -0.201\n",
            "tenure_log                                0.0378      0.004      9.316      0.000       0.030       0.046\n",
            "=========================================================================================================\n"
          ]
        }
      ]
    },
    {
      "cell_type": "code",
      "source": [
        "X_train, X_test, y_train, y_test = train_test_split(X_reduced, y, test_size=0.2, random_state=42)\n",
        "\n",
        "# Fit logistic regression model on training data\n",
        "logit_model_final = sm.Logit(y_train, X_train)\n",
        "result_final = logit_model_final.fit()\n",
        "\n",
        "# Make predictions on test data\n",
        "y_pred_prob = result_final.predict(X_test)\n",
        "y_pred = np.where(y_pred_prob > 0.5, 1, 0)\n",
        "\n",
        "# Confusion matrix and classification report\n",
        "print(\"\\nConfusion Matrix:\")\n",
        "print(confusion_matrix(y_test, y_pred))\n",
        "print(\"\\nClassification Report:\")\n",
        "print(classification_report(y_test, y_pred))"
      ],
      "metadata": {
        "colab": {
          "base_uri": "https://localhost:8080/"
        },
        "id": "UmIGlHdM6aFc",
        "outputId": "e3ae8674-99e8-4e89-caa2-dc8ace15a6f7"
      },
      "execution_count": 30,
      "outputs": [
        {
          "output_type": "stream",
          "name": "stdout",
          "text": [
            "Optimization terminated successfully.\n",
            "         Current function value: 0.429115\n",
            "         Iterations 8\n",
            "\n",
            "Confusion Matrix:\n",
            "[[936  97]\n",
            " [203 171]]\n",
            "\n",
            "Classification Report:\n",
            "              precision    recall  f1-score   support\n",
            "\n",
            "           0       0.82      0.91      0.86      1033\n",
            "           1       0.64      0.46      0.53       374\n",
            "\n",
            "    accuracy                           0.79      1407\n",
            "   macro avg       0.73      0.68      0.70      1407\n",
            "weighted avg       0.77      0.79      0.77      1407\n",
            "\n"
          ]
        }
      ]
    },
    {
      "cell_type": "markdown",
      "source": [
        "Only tenure as continuous variable is left for BT test after VIF, however, tenure_log failed the assumption by bring zero p value."
      ],
      "metadata": {
        "id": "ItZotHmE62Hj"
      }
    },
    {
      "cell_type": "markdown",
      "source": [
        "**Accuracy:**\n",
        "\n",
        "The overall accuracy of the model is 79%, indicating that 79% of the total predictions (both churn and non-churn) are correct.\n",
        "\n",
        "**Precision, Recall, and F1-Score:**\n",
        "\n",
        "For non-churn customers (class 0), the precision (0.82), recall (0.91), and F1-score (0.86) suggest that the model performs well at predicting customers who will stay. It correctly identifies 91% of non-churn customers, meaning it captures most of the loyal customers.\n",
        "\n",
        "For churn customers (class 1), the precision (0.64), recall (0.46), and F1-score (0.53) indicate that the model struggles more with identifying customers who are at risk of churning. The model is identifying 64% of the predicted churn customers correctly, but it only captures 46% of the actual churn customers.\n",
        "\n",
        "**Understanding the factors contributing to customer churn:**\n",
        "\n",
        "Key factors influencing churn based on the logistic regression results include contract type, tenure, tech support, and payment method:\n",
        "\n",
        "Longer contracts (one-year or two-year contracts) and longer tenure significantly reduce the likelihood of churn.\n",
        "Customers who do not have tech support or other services like device protection or online security are more likely to churn.\n",
        "The payment method also plays a role: those using electronic checks show a higher likelihood of churning.\n",
        "\n",
        "**The type of customers who tend to churn or are at higher risk of churning:**\n",
        "\n",
        "Customers with shorter contract durations are at a much higher risk of churning compared to those with longer contracts. Additionally, customers without tech support, online security, or device protection are more prone to leaving. Those who pay using electronic checks also show a higher risk of churn, suggesting this payment method could be associated with less satisfied customers. Finally, newer customers with shorter tenure are also at a greater risk of leaving."
      ],
      "metadata": {
        "id": "db1pQGbcMV-d"
      }
    },
    {
      "cell_type": "markdown",
      "source": [
        "The logistic regression model performed reasonably well in predicting customer churn, as indicated by the Pseudo R-squared of 0.2554, meaning the model explains approximately 25.54% of the variance in the churn outcome. Several features, such as SeniorCitizen, tenure, MultipleLines_Yes, and Contract_Two year, were statistically significant, indicating they strongly influence churn behavior. However, the Box-Tidwell test revealed that the linearity assumption between tenure and the log-odds of churn was violated, suggesting that the relationship between tenure and churn is non-linear. Despite this, the model successfully identified key drivers of churn but could potentially benefit from addressing the non-linearity and multicollinearity to improve its predictive accuracy."
      ],
      "metadata": {
        "id": "ALPbKmbM5drf"
      }
    },
    {
      "cell_type": "code",
      "source": [
        "## GAM"
      ],
      "metadata": {
        "id": "7Jez5y7q5e14"
      },
      "execution_count": null,
      "outputs": []
    },
    {
      "cell_type": "markdown",
      "source": [
        "Assumptions:\n",
        "1. Independence of Observation: met as customer data should be independent with no repeated measures for the same customer\n",
        "2. Multicolineatiy: met as high VIF factors excluded\n",
        "3. Homoscedasticity: not met as residual plot is not funel like\n",
        "4. Large sample size: met as the dataset has over 7000 observations\n"
      ],
      "metadata": {
        "id": "oi4YK17IWW4-"
      }
    },
    {
      "cell_type": "code",
      "source": [
        "df_encoded.columns"
      ],
      "metadata": {
        "colab": {
          "base_uri": "https://localhost:8080/"
        },
        "id": "GxQlK_51TIWf",
        "outputId": "9791fc86-fa9f-468e-b22f-6ac32003893c"
      },
      "execution_count": 32,
      "outputs": [
        {
          "output_type": "execute_result",
          "data": {
            "text/plain": [
              "Index(['SeniorCitizen', 'tenure', 'MonthlyCharges', 'TotalCharges', 'Churn',\n",
              "       'gender_Male', 'Partner_Yes', 'Dependents_Yes', 'PhoneService_Yes',\n",
              "       'MultipleLines_No phone service', 'MultipleLines_Yes',\n",
              "       'InternetService_Fiber optic', 'InternetService_No',\n",
              "       'OnlineSecurity_No internet service', 'OnlineSecurity_Yes',\n",
              "       'OnlineBackup_No internet service', 'OnlineBackup_Yes',\n",
              "       'DeviceProtection_No internet service', 'DeviceProtection_Yes',\n",
              "       'TechSupport_No internet service', 'TechSupport_Yes',\n",
              "       'StreamingTV_No internet service', 'StreamingTV_Yes',\n",
              "       'StreamingMovies_No internet service', 'StreamingMovies_Yes',\n",
              "       'Contract_One year', 'Contract_Two year', 'PaperlessBilling_Yes',\n",
              "       'PaymentMethod_Credit card (automatic)',\n",
              "       'PaymentMethod_Electronic check', 'PaymentMethod_Mailed check'],\n",
              "      dtype='object')"
            ]
          },
          "metadata": {},
          "execution_count": 32
        }
      ]
    },
    {
      "cell_type": "code",
      "source": [
        "# Dropping high VIF features from df_encoded\n",
        "high_vif_features = ['MonthlyCharges', 'TotalCharges', 'PhoneService_Yes', 'MultipleLines_No phone service',\n",
        "                     'InternetService_Fiber optic', 'InternetService_No', 'OnlineSecurity_No internet service',\n",
        "                     'OnlineBackup_No internet service', 'DeviceProtection_No internet service',\n",
        "                     'TechSupport_No internet service', 'StreamingTV_No internet service', 'StreamingTV_Yes',\n",
        "                     'StreamingMovies_No internet service', 'StreamingMovies_Yes']\n",
        "\n",
        "# Dropping high VIF features from df_encoded\n",
        "df_reduced = df_encoded.drop(columns=high_vif_features, errors='ignore')\n",
        "\n",
        "# Display the remaining features\n",
        "print(df_reduced.columns)\n"
      ],
      "metadata": {
        "colab": {
          "base_uri": "https://localhost:8080/"
        },
        "id": "gYqKjQIqY6Wb",
        "outputId": "8001ff8d-8809-4dce-8798-39da717b3c2c"
      },
      "execution_count": 42,
      "outputs": [
        {
          "output_type": "stream",
          "name": "stdout",
          "text": [
            "Index(['SeniorCitizen', 'tenure', 'Churn', 'gender_Male', 'Partner_Yes',\n",
            "       'Dependents_Yes', 'MultipleLines_Yes', 'OnlineSecurity_Yes',\n",
            "       'OnlineBackup_Yes', 'DeviceProtection_Yes', 'TechSupport_Yes',\n",
            "       'Contract_One year', 'Contract_Two year', 'PaperlessBilling_Yes',\n",
            "       'PaymentMethod_Credit card (automatic)',\n",
            "       'PaymentMethod_Electronic check', 'PaymentMethod_Mailed check'],\n",
            "      dtype='object')\n"
          ]
        }
      ]
    },
    {
      "cell_type": "code",
      "source": [
        "# List of selected features\n",
        "selected_features = ['SeniorCitizen', 'tenure', 'gender_Male', 'Partner_Yes',\n",
        "                     'Dependents_Yes', 'MultipleLines_Yes', 'OnlineSecurity_Yes',\n",
        "                     'OnlineBackup_Yes', 'DeviceProtection_Yes', 'TechSupport_Yes',\n",
        "                     'Contract_One year', 'Contract_Two year', 'PaperlessBilling_Yes',\n",
        "                     'PaymentMethod_Credit card (automatic)', 'PaymentMethod_Electronic check',\n",
        "                     'PaymentMethod_Mailed check']"
      ],
      "metadata": {
        "id": "V97bjgPtqxUb"
      },
      "execution_count": 45,
      "outputs": []
    },
    {
      "cell_type": "code",
      "source": [
        "# Use df_encoded to filter these features\n",
        "X = df_encoded[selected_features]\n",
        "y = df_encoded['Churn']  # Target variable"
      ],
      "metadata": {
        "id": "tZiJuRUjbMCj"
      },
      "execution_count": 46,
      "outputs": []
    },
    {
      "cell_type": "code",
      "source": [
        "# Split the data into training and testing sets\n",
        "X_train, X_test, y_train, y_test = train_test_split(X, y, test_size=0.2, random_state=42)\n",
        "\n",
        "# Scale only the numeric features (tenure)\n",
        "scaler = StandardScaler()\n",
        "X_train_scaled = X_train.copy()\n",
        "X_train_scaled['tenure'] = scaler.fit_transform(X_train[['tenure']])\n",
        "X_test_scaled = X_test.copy()\n",
        "X_test_scaled['tenure'] = scaler.transform(X_test[['tenure']])"
      ],
      "metadata": {
        "id": "Wm4uVAVvbVyZ"
      },
      "execution_count": 47,
      "outputs": []
    },
    {
      "cell_type": "code",
      "source": [
        "# Create the GAM model, treating 'tenure' as smooth term and others as factor terms\n",
        "gam = LogisticGAM(\n",
        "    s(1) +    # tenure (continuous)\n",
        "    f(0) +    # SeniorCitizen (categorical)\n",
        "    f(2) +    # gender_Male (categorical)\n",
        "    f(3) +    # Partner_Yes (categorical)\n",
        "    f(4) +    # Dependents_Yes (categorical)\n",
        "    f(5) +    # MultipleLines_Yes (categorical)\n",
        "    f(6) +    # OnlineSecurity_Yes (categorical)\n",
        "    f(7) +    # OnlineBackup_Yes (categorical)\n",
        "    f(8) +    # DeviceProtection_Yes (categorical)\n",
        "    f(9) +    # TechSupport_Yes (categorical)\n",
        "    f(10) +   # Contract_One year (categorical)\n",
        "    f(11) +   # Contract_Two year (categorical)\n",
        "    f(12) +   # PaperlessBilling_Yes (categorical)\n",
        "    f(13) +   # PaymentMethod_Credit card (automatic) (categorical)\n",
        "    f(14) +   # PaymentMethod_Electronic check (categorical)\n",
        "    f(15)     # PaymentMethod_Mailed check (categorical)\n",
        ")\n",
        "\n",
        "# Fit the GAM model on the training data\n",
        "gam.fit(X_train_scaled, y_train)\n",
        "\n",
        "# Make predictions on the test set\n",
        "y_pred = gam.predict(X_test_scaled)\n",
        "\n",
        "# Evaluate the model using confusion matrix and classification report\n",
        "conf_matrix = confusion_matrix(y_test, y_pred)\n",
        "class_report = classification_report(y_test, y_pred)\n",
        "\n",
        "# Output the evaluation results\n",
        "print(\"Confusion Matrix:\")\n",
        "print(conf_matrix)\n",
        "print(\"\\nClassification Report:\")\n",
        "print(class_report)"
      ],
      "metadata": {
        "colab": {
          "base_uri": "https://localhost:8080/"
        },
        "id": "L0jg5_AenUpl",
        "outputId": "396bd0a4-d240-4dcc-fae7-650c8addec30"
      },
      "execution_count": 48,
      "outputs": [
        {
          "output_type": "stream",
          "name": "stdout",
          "text": [
            "Confusion Matrix:\n",
            "[[937  96]\n",
            " [197 177]]\n",
            "\n",
            "Classification Report:\n",
            "              precision    recall  f1-score   support\n",
            "\n",
            "           0       0.83      0.91      0.86      1033\n",
            "           1       0.65      0.47      0.55       374\n",
            "\n",
            "    accuracy                           0.79      1407\n",
            "   macro avg       0.74      0.69      0.71      1407\n",
            "weighted avg       0.78      0.79      0.78      1407\n",
            "\n"
          ]
        }
      ]
    },
    {
      "cell_type": "markdown",
      "source": [
        "**Accuracy:**\n",
        "\n",
        "The overall accuracy of the model is 79%, indicating that 79% of the total predictions (both churn and non-churn) are correct.\n",
        "\n",
        "**Precision, Recall, and F1-Score:**\n",
        "\n",
        "For non-churn customers (class 0), the precision (0.83), recall (0.91), and F1-score (0.86) suggest that the model is quite good at predicting customers who will stay. It correctly identifies 91% of non-churn customers, meaning it captures most of the customers who are loyal.\n",
        "\n",
        "For churn customers (class 1), the model's precision (0.65), recall (0.47), and F1-score (0.55) are lower, indicating that the model has more difficulty identifying customers who are at risk of churning. The model is identifying 65% of the predicted churn customers correctly, but it only captures 47% of the actual churn customers."
      ],
      "metadata": {
        "id": "1NerxPPEsc7x"
      }
    },
    {
      "cell_type": "markdown",
      "source": [
        "**Understanding the factors contributing to customer churn:**\n",
        "\n",
        "Key factors influencing churn include contract type, tenure, tech support, and payment method. Customers with longer contracts and tenure are less likely to churn, while those without tech support or using electronic check payments are more prone to leaving. This insight allows companies to focus on retaining customers by offering better support services or longer-term contract incentives."
      ],
      "metadata": {
        "id": "OQ25eUt1Ew6x"
      }
    },
    {
      "cell_type": "markdown",
      "source": [
        "**The type of customers tend to churn or are at higher risk of churning:**\n",
        "\n",
        "Customers with shorter contract durations (like month-to-month contracts) are at a much higher risk of churning compared to those with longer contracts. Additionally, customers who do not have tech support, device protection, or online security are more likely to churn. Those who opt for electronic check payments also show a higher tendency to leave, indicating that this payment method may be associated with less loyal customers. Lastly, customers with lower tenure (newer customers) are at a higher risk of leaving the service."
      ],
      "metadata": {
        "id": "pmACsi7oGDel"
      }
    },
    {
      "cell_type": "code",
      "source": [
        "# Check for heteroscedasticity\n",
        "# Get the predicted probabilities and residuals from the model\n",
        "y_pred_prob = gam.predict_proba(X_test_scaled)  # Predicted probabilities\n",
        "residuals = y_test - y_pred_prob  # Residuals (observed - predicted)\n",
        "\n",
        "# Plot residuals vs. predicted probabilities\n",
        "plt.figure(figsize=(10, 6))\n",
        "plt.scatter(y_pred_prob, residuals, alpha=0.5)\n",
        "plt.axhline(0, color='red', linestyle='--')\n",
        "\n",
        "# Add labels and title\n",
        "plt.xlabel('Predicted Probabilities')\n",
        "plt.ylabel('Residuals')\n",
        "plt.title('Residuals vs. Predicted Probabilities (Homoscedasticity Check)')\n",
        "plt.show()"
      ],
      "metadata": {
        "colab": {
          "base_uri": "https://localhost:8080/",
          "height": 564
        },
        "id": "XzwmvZMlnTuv",
        "outputId": "61667de6-cff6-4b6b-d1fc-c3822b1b578f"
      },
      "execution_count": 49,
      "outputs": [
        {
          "output_type": "display_data",
          "data": {
            "text/plain": [
              "<Figure size 1000x600 with 1 Axes>"
            ],
            "image/png": "[encoded data removed]"
          },
          "metadata": {}
        }
      ]
    },
    {
      "cell_type": "markdown",
      "source": [
        "**Model Comparation:**\n",
        "\n",
        "**Ridge Regression(selected as best overall linear regression model):**\\\n",
        "**Performance:**\\\n",
        "MSE: 0.1459\\\n",
        "R² Score: 0.2524\\\n",
        "Adjusted R² Score: 0.2361\\\n",
        "**Top Features:**\\\n",
        "Positive impact: InternetService_Fiber optic, StreamingMovies_Yes, StreamingTV_Yes, MultipleLines_Yes, PaymentMethod_Electronic check\\\n",
        "Negative impact: TotalCharges, Contract_One year, Contract_Two year, tenure, MonthlyCharges\\\n",
        "**Strength:**\\\n",
        "Easy to interpret, providing clear insights into the direction of relationships (positive or negative) between predictors and churn.\\\n",
        "Simple to implement and understand.\\\n",
        "**Weakness:**\\\n",
        "Low predictive performance, as seen in the low R² score, indicating that linear regression explains only around 23% of the variability in customer churn.\\\n",
        "Assumes a linear relationship between the independent variables and churn, which may not be the best assumption for this problem, especially with categorical variables.\n",
        "\n",
        "\n",
        "**Logistic Regression:**\\\n",
        "**Performance:**\\\n",
        "Accuracy: 0.79\\\\\n",
        "Precision (Churn Class 1): 0.64\\\n",
        "Recall (Churn Class 1): 0.47\\\n",
        "F1-Score (Churn Class 1): 0.55\\\n",
        "**Top Features:**\\\n",
        "Positive: MultipleLines_Yes, DeviceProtection_Yes, PaperlessBilling_Yes, PaymentMethod_Electronic check\\\n",
        "Negative: tenure, TechSupport_Yes, Contract_One year, Contract_Two year\\\n",
        "**Strengths:**\\\n",
        "Logistic regression is better suited for binary outcomes like churn (0 or 1), as it models the probability of churn directly.\n",
        "More interpretable for categorical variables, providing odds ratios that can tell how much each factor increases/decreases the odds of churn.\n",
        "Better at capturing non-linearities through the log-odds transformation.\\\n",
        "**Weaknesses:**\\\n",
        "Although more suitable for binary outcomes, the recall for predicting churn is still quite low at 47%, meaning it misses many actual churn cases.\n",
        "Doesn’t handle highly non-linear relationships well.\n",
        "\n",
        "**Generalized Additive Model (GAM):**\\\n",
        "**Performance:**\\\n",
        "Accuracy: 0.79\\\n",
        "Precision (Churn Class 1): 0.65\\\n",
        "Recall (Churn Class 1): 0.47\\\n",
        "F1-Score (Churn Class 1): 0.55\\\n",
        "**Strengths:**\\\n",
        "GAM offers greater flexibility by allowing non-linear relationships between predictors and churn. It can capture more complex patterns compared to logistic regression or linear regression.\\\n",
        "By modeling each predictor individually with smooth functions, GAM can provide insights into how each factor affects churn in a non-linear way.\\\n",
        "**Weaknesses:**\\\n",
        "Less interpretable compared to logistic regression and linear regression, especially in terms of understanding specific feature effects.\\\n",
        "The recall and F1 score are similar to logistic regression, meaning it still struggles to identify churn cases effectively.\n",
        "\n"
      ],
      "metadata": {
        "id": "8TZ-EoAKVeJw"
      }
    },
    {
      "cell_type": "markdown",
      "source": [
        "**Recommandation for Telecommunications Company:**\n",
        "Logistic Regression could be the recommended model for its interpretability and prediction for binary outcomes like churn. It provides analysis that tells factors influence customer churn. Although the recall and F1 scores are not perfect, logistic regression gives interpretable odds ratios for actionable business decisions."
      ],
      "metadata": {
        "id": "VbL3cIFzaoIJ"
      }
    },
    {
      "cell_type": "code",
      "source": [
        "!apt-get install git"
      ],
      "metadata": {
        "colab": {
          "base_uri": "https://localhost:8080/"
        },
        "id": "nlINAuysdBGc",
        "outputId": "da7d99da-8fac-43c3-ef1d-2d8517fb27e1"
      },
      "execution_count": 52,
      "outputs": [
        {
          "output_type": "stream",
          "name": "stdout",
          "text": [
            "Reading package lists... Done\n",
            "Building dependency tree... Done\n",
            "Reading state information... Done\n",
            "git is already the newest version (1:2.34.1-1ubuntu1.11).\n",
            "0 upgraded, 0 newly installed, 0 to remove and 49 not upgraded.\n"
          ]
        }
      ]
    },
    {
      "cell_type": "code",
      "source": [
        "%cd /content/drive/My Drive/assignment #03\n"
      ],
      "metadata": {
        "colab": {
          "base_uri": "https://localhost:8080/"
        },
        "id": "W48DZVlqdGwe",
        "outputId": "b4e0f3ce-8a5d-4fa9-c129-a582f80c197c"
      },
      "execution_count": 54,
      "outputs": [
        {
          "output_type": "stream",
          "name": "stdout",
          "text": [
            "/content/drive/My Drive/assignment #03\n"
          ]
        }
      ]
    },
    {
      "cell_type": "code",
      "source": [
        "!git config --global user.name \"Haodong12\"\n",
        "!git config --global user.email \"yingmanyuetai@gmail.com\"\n"
      ],
      "metadata": {
        "id": "cYRkBb3ndPDl"
      },
      "execution_count": 55,
      "outputs": []
    },
    {
      "cell_type": "code",
      "source": [
        "!git init"
      ],
      "metadata": {
        "colab": {
          "base_uri": "https://localhost:8080/"
        },
        "id": "3WgjiEjEdQTl",
        "outputId": "cd4259c3-720b-4461-afe8-8f80f6c2f8cb"
      },
      "execution_count": 56,
      "outputs": [
        {
          "output_type": "stream",
          "name": "stdout",
          "text": [
            "\u001b[33mhint: Using 'master' as the name for the initial branch. This default branch name\u001b[m\n",
            "\u001b[33mhint: is subject to change. To configure the initial branch name to use in all\u001b[m\n",
            "\u001b[33mhint: of your new repositories, which will suppress this warning, call:\u001b[m\n",
            "\u001b[33mhint: \u001b[m\n",
            "\u001b[33mhint: \tgit config --global init.defaultBranch <name>\u001b[m\n",
            "\u001b[33mhint: \u001b[m\n",
            "\u001b[33mhint: Names commonly chosen instead of 'master' are 'main', 'trunk' and\u001b[m\n",
            "\u001b[33mhint: 'development'. The just-created branch can be renamed via this command:\u001b[m\n",
            "\u001b[33mhint: \u001b[m\n",
            "\u001b[33mhint: \tgit branch -m <name>\u001b[m\n",
            "Initialized empty Git repository in /content/drive/MyDrive/assignment #03/.git/\n"
          ]
        }
      ]
    },
    {
      "cell_type": "code",
      "source": [
        "!git remote add origin https://github.com/Haodong12/AIPI-590.git"
      ],
      "metadata": {
        "id": "J1luW8nOdTZQ"
      },
      "execution_count": 57,
      "outputs": []
    },
    {
      "cell_type": "code",
      "source": [
        "!git add ."
      ],
      "metadata": {
        "id": "vchjDaphdW_6"
      },
      "execution_count": 58,
      "outputs": []
    },
    {
      "cell_type": "code",
      "source": [
        "!git commit -m \"Added Colab notebook and folder files\""
      ],
      "metadata": {
        "colab": {
          "base_uri": "https://localhost:8080/"
        },
        "id": "KLlhitmvdZu5",
        "outputId": "93c77a92-cd89-4bb8-a846-a6d1ab59e29b"
      },
      "execution_count": 59,
      "outputs": [
        {
          "output_type": "stream",
          "name": "stdout",
          "text": [
            "[master (root-commit) d261a3b] Added Colab notebook and folder files\n",
            " 2 files changed, 7045 insertions(+)\n",
            " create mode 100644 Telco-Customer-Churn.csv\n",
            " create mode 100644 assignment3.ipynb\n"
          ]
        }
      ]
    },
    {
      "cell_type": "code",
      "source": [
        "!git branch -M main"
      ],
      "metadata": {
        "id": "D1pdUZnGdtim"
      },
      "execution_count": 61,
      "outputs": []
    },
    {
      "cell_type": "code",
      "source": [
        "!git push -u origin main"
      ],
      "metadata": {
        "colab": {
          "base_uri": "https://localhost:8080/"
        },
        "id": "FR0aBB2wduzy",
        "outputId": "437c586a-f807-4018-a67b-1a049344ec58"
      },
      "execution_count": 62,
      "outputs": [
        {
          "output_type": "stream",
          "name": "stdout",
          "text": [
            "fatal: could not read Username for 'https://github.com': No such device or address\n"
          ]
        }
      ]
    },
    {
      "cell_type": "code",
      "source": [
        "!git remote remove origin\n",
        "!git remote add origin https://<TOKEN>@github.com/Haodong12/AIPI-590.git\n",
        "!git push -u origin main\n"
      ],
      "metadata": {
        "colab": {
          "base_uri": "https://localhost:8080/"
        },
        "id": "dvidoos4d6Lb",
        "outputId": "5baa88d8-69c1-48ff-caf4-5f9133752889"
      },
      "execution_count": 64,
      "outputs": [
        {
          "output_type": "stream",
          "name": "stdout",
          "text": [
            "error: No such remote: 'origin'\n",
            "/bin/bash: line 1: TOKEN: No such file or directory\n",
            "fatal: 'origin' does not appear to be a git repository\n",
            "fatal: Could not read from remote repository.\n",
            "\n",
            "Please make sure you have the correct access rights\n",
            "and the repository exists.\n"
          ]
        }
      ]
    }
  ]
}